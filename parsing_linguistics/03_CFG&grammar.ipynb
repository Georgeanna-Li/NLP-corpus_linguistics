{
 "cells": [
  {
   "cell_type": "markdown",
   "metadata": {},
   "source": [
    "# 3: CFGs/Grammar in NLTK\n",
    "\n",
    "## 1. Constructing grammars\n",
    "\n",
    "There are two main ways to build CFG(Context-free grammars) in NLTK. The first is to create a string which represents the productions of the CFG. Note that the LHS of the first rule is taken to be the start.\n",
    "\n",
    "We will use the following grammar rules:\n",
    "```\n",
    "S -> NP VP\n",
    "NP -> PN\n",
    "NP -> NNS\n",
    "VP -> VB\n",
    "VP -> VB NP\n",
    "VP -> VB NP NP\n",
    "```\n",
    "Each rule (also called production) denotes a replacement of the left-hand side symbol with one or more right-hand side symbols.\n",
    "\n",
    "We can use the rules in our grammar to derive phrases and sentences.\n",
    "\n",
    "We will also use the following lexical rules:\n",
    "```\n",
    "PN -> 'she'\n",
    "PN -> 'we'\n",
    "PN -> 'us'\n",
    "PN -> 'her'\n",
    "NNS -> 'bills'\n",
    "NNS -> 'coins'\n",
    "VB -> 'give'\n",
    "VB -> 'gives'\n",
    "```\n",
    "\n",
    "Note that the first rule of the grammar determines the start symbol (`S` in our case)."
   ]
  },
  {
   "cell_type": "code",
   "execution_count": 1,
   "metadata": {},
   "outputs": [],
   "source": [
    "from nltk import CFG\n",
    "from nltk.parse.generate import generate\n",
    "from random import shuffle\n",
    "\n",
    "grammar = CFG.fromstring(\"\"\"S -> NP VP\n",
    "NP -> PN\n",
    "NP -> NNS\n",
    "VP -> VB\n",
    "VP -> VB NP\n",
    "VP -> VB NP NP\n",
    "PN -> 'she'\n",
    "PN -> 'we'\n",
    "PN -> 'us'\n",
    "PN -> 'her'\n",
    "NNS -> 'bills'\n",
    "NNS -> 'coins'\n",
    "VB -> 'give'\n",
    "VB -> 'gives'\"\"\")"
   ]
  },
  {
   "cell_type": "markdown",
   "metadata": {},
   "source": [
    "Let's print our grammar"
   ]
  },
  {
   "cell_type": "code",
   "execution_count": 2,
   "metadata": {},
   "outputs": [
    {
     "name": "stdout",
     "output_type": "stream",
     "text": [
      "Grammar with 14 productions (start state = S)\n",
      "    S -> NP VP\n",
      "    NP -> PN\n",
      "    NP -> NNS\n",
      "    VP -> VB\n",
      "    VP -> VB NP\n",
      "    VP -> VB NP NP\n",
      "    PN -> 'she'\n",
      "    PN -> 'we'\n",
      "    PN -> 'us'\n",
      "    PN -> 'her'\n",
      "    NNS -> 'bills'\n",
      "    NNS -> 'coins'\n",
      "    VB -> 'give'\n",
      "    VB -> 'gives'\n"
     ]
    }
   ],
   "source": [
    "print(grammar)"
   ]
  },
  {
   "cell_type": "markdown",
   "metadata": {},
   "source": [
    "## 2. Parsing sentences\n",
    "\n",
    "We can use CFGs for parsing. There are a few parsing algorithms included with NLTK, let's use the Earley Chart parser."
   ]
  },
  {
   "cell_type": "code",
   "execution_count": 3,
   "metadata": {},
   "outputs": [
    {
     "name": "stdout",
     "output_type": "stream",
     "text": [
      "(S (NP (PN she)) (VP (VB gives) (NP (PN us)) (NP (NNS coins))))\n"
     ]
    }
   ],
   "source": [
    "from nltk.parse import EarleyChartParser\n",
    "\n",
    "nltk_parser = EarleyChartParser(grammar)\n",
    "\n",
    "sent = \"she gives us coins\".split(\" \")\n",
    "\n",
    "parses = nltk_parser.parse(sent)\n",
    "\n",
    "for parse in parses:\n",
    "    print(parse)"
   ]
  },
  {
   "cell_type": "markdown",
   "metadata": {},
   "source": [
    "The grammar will also parse some clearly ungrammatical sentences."
   ]
  },
  {
   "cell_type": "code",
   "execution_count": 4,
   "metadata": {},
   "outputs": [
    {
     "name": "stdout",
     "output_type": "stream",
     "text": [
      "(S (NP (PN her)) (VP (VB gives) (NP (PN us)) (NP (NNS coins))))\n"
     ]
    }
   ],
   "source": [
    "sent = \"her gives us coins\".split(\" \")\n",
    "\n",
    "parses = nltk_parser.parse(sent)\n",
    "\n",
    "for parse in parses:\n",
    "    print(parse)"
   ]
  },
  {
   "cell_type": "markdown",
   "metadata": {},
   "source": [
    "## 3. Modeling subject and object NPs\n",
    "\n",
    "We will now specialize the noun phrases in subject and object positions in order to prevent our grammar from analyzing ungrammatical sentences like \"her gives we coins\".\n",
    "\n",
    "We will create two new non-terminals `NP_subj` and `NP_obj` which are intended for subject and object positions, respectively."
   ]
  },
  {
   "cell_type": "code",
   "execution_count": 5,
   "metadata": {},
   "outputs": [],
   "source": [
    "grammar = CFG.fromstring(\"\"\"S -> NP_subj VP\n",
    "NP_subj -> PN_subj\n",
    "NP_subj -> NNS\n",
    "NP_obj -> PN_obj\n",
    "NP_obj -> NNS\n",
    "VP -> VB\n",
    "VP -> VB NP_obj\n",
    "VP -> VB NP_obj NP_obj\n",
    "PN_subj -> 'she'\n",
    "PN_subj -> 'we'\n",
    "PN_obj -> 'us'\n",
    "PN_obj -> 'her'\n",
    "NNS -> 'bills'\n",
    "NNS -> 'coins'\n",
    "VB -> 'give'\n",
    "VB -> 'gives'\"\"\")"
   ]
  },
  {
   "cell_type": "markdown",
   "metadata": {},
   "source": [
    "Let's make sure that the grammar still parses the original grammatical sentence \"she gives us coins\"."
   ]
  },
  {
   "cell_type": "code",
   "execution_count": 6,
   "metadata": {},
   "outputs": [
    {
     "name": "stdout",
     "output_type": "stream",
     "text": [
      "(S\n",
      "  (NP_subj (PN_subj she))\n",
      "  (VP (VB gives) (NP_obj (PN_obj us)) (NP_obj (NNS coins))))\n"
     ]
    }
   ],
   "source": [
    "nltk_parser = EarleyChartParser(grammar)\n",
    "\n",
    "sent = \"she gives us coins\".split(\" \")\n",
    "\n",
    "parses = nltk_parser.parse(sent)\n",
    "\n",
    "for parse in parses:\n",
    "    print(parse)"
   ]
  },
  {
   "cell_type": "markdown",
   "metadata": {},
   "source": [
    "Let's also make sure that it does not parse the ungrammatical sentence \"her gives we coins\"."
   ]
  },
  {
   "cell_type": "code",
   "execution_count": 7,
   "metadata": {},
   "outputs": [],
   "source": [
    "sent = \"her gives us coins\".split(\" \")\n",
    "\n",
    "parses = nltk_parser.parse(sent)\n",
    "\n",
    "for parse in parses:\n",
    "    print(parse)"
   ]
  },
  {
   "cell_type": "markdown",
   "metadata": {},
   "source": [
    "## 3. Adding rules to an existing grammar\n",
    "\n",
    "Grammars can also be built programmatically from a set of productions, which in turn can be built from Nonterminals and strings. This could be used to import rules from an existing grammar while making changes or additions, for instance. \n",
    "\n",
    "Let's add simple adverbial phrases to the end of all verb phrases of our grammar. We can assume that these consist of a single adverb (RB) like \"grudgingly\" or a combination of two adverbs like \"very grudgingly\".\n",
    "\n",
    "In addition to our existing `VP` rules:\n",
    "```\n",
    "VP -> VB\n",
    "VP -> VB NP_obj\n",
    "VP -> VB NP_obj NP_obj\n",
    "```\n",
    "we will add three new rules to our grammar:\n",
    "```\n",
    "VP -> VB AdvP\n",
    "VP -> VB NP_obj AdvP\n",
    "VP -> VB NP_obj NP_obj AdvP\n",
    "```"
   ]
  },
  {
   "cell_type": "code",
   "execution_count": 8,
   "metadata": {},
   "outputs": [],
   "source": [
    "from nltk.grammar import Production, Nonterminal\n",
    "\n",
    "AdvP = Nonterminal(\"AdvP\")\n",
    "VP = Nonterminal(\"VP\")\n",
    "\n",
    "new_productions = []\n",
    "\n",
    "for rule in grammar.productions():\n",
    "    if rule.lhs() == VP:\n",
    "        production = Production(VP, rule.rhs() + (AdvP,))   # append the new AdvP\n",
    "        new_productions.append(production)\n",
    "\n",
    "# combine two productions\n",
    "new_grammar = CFG(Nonterminal(\"S\"), grammar.productions() + new_productions)"
   ]
  },
  {
   "cell_type": "markdown",
   "metadata": {},
   "source": [
    "Let's print the new grammar."
   ]
  },
  {
   "cell_type": "code",
   "execution_count": 9,
   "metadata": {},
   "outputs": [
    {
     "name": "stdout",
     "output_type": "stream",
     "text": [
      "Grammar with 19 productions (start state = S)\n",
      "    S -> NP_subj VP\n",
      "    NP_subj -> PN_subj\n",
      "    NP_subj -> NNS\n",
      "    NP_obj -> PN_obj\n",
      "    NP_obj -> NNS\n",
      "    VP -> VB\n",
      "    VP -> VB NP_obj\n",
      "    VP -> VB NP_obj NP_obj\n",
      "    PN_subj -> 'she'\n",
      "    PN_subj -> 'we'\n",
      "    PN_obj -> 'us'\n",
      "    PN_obj -> 'her'\n",
      "    NNS -> 'bills'\n",
      "    NNS -> 'coins'\n",
      "    VB -> 'give'\n",
      "    VB -> 'gives'\n",
      "    VP -> VB AdvP\n",
      "    VP -> VB NP_obj AdvP\n",
      "    VP -> VB NP_obj NP_obj AdvP\n"
     ]
    }
   ],
   "source": [
    "print(new_grammar)"
   ]
  },
  {
   "cell_type": "markdown",
   "metadata": {},
   "source": [
    "We will then add rules for the internal structure of an `AdvP`:\n",
    "```\n",
    "AdvP -> RB\n",
    "AdvP -> RB RB\n",
    "RB -> 'grudgingly'\n",
    "RB -> 'very'\n",
    "```"
   ]
  },
  {
   "cell_type": "code",
   "execution_count": 10,
   "metadata": {},
   "outputs": [],
   "source": [
    "AdvP = Nonterminal(\"AdvP\")\n",
    "RB = Nonterminal(\"RB\")\n",
    "\n",
    "# here we add them manually\n",
    "new_productions.append(Production(AdvP, (RB,)))\n",
    "new_productions.append(Production(AdvP, (RB,RB)))\n",
    "new_productions.append(Production(RB, [\"very\"]))\n",
    "new_productions.append(Production(RB, [\"grudingly\"]))\n",
    "\n",
    "new_grammar = CFG(Nonterminal(\"S\"), grammar.productions() + new_productions)"
   ]
  },
  {
   "cell_type": "markdown",
   "metadata": {},
   "source": [
    "Let's test the new grammar."
   ]
  },
  {
   "cell_type": "code",
   "execution_count": 11,
   "metadata": {},
   "outputs": [
    {
     "name": "stdout",
     "output_type": "stream",
     "text": [
      "(S\n",
      "  (NP_subj (PN_subj she))\n",
      "  (VP\n",
      "    (VB gives)\n",
      "    (NP_obj (PN_obj us))\n",
      "    (NP_obj (NNS coins))\n",
      "    (AdvP (RB very) (RB grudingly))))\n"
     ]
    }
   ],
   "source": [
    "nltk_parser = EarleyChartParser(new_grammar)\n",
    "\n",
    "sent = \"she gives us coins very grudingly\".split(\" \")\n",
    "\n",
    "parses = nltk_parser.parse(sent)\n",
    "\n",
    "for parse in parses:\n",
    "    print(parse)"
   ]
  },
  {
   "cell_type": "markdown",
   "metadata": {},
   "source": [
    "---------"
   ]
  },
  {
   "cell_type": "markdown",
   "metadata": {},
   "source": [
    "## 4. More examples\n",
    "\n",
    "### 1). Adding singular and proper nouns, determiners, adjectives and prepositional phrases\n",
    "\n",
    "Let's start with our final grammar from the last notebook:\n",
    "```\n",
    "S -> NP_subj VP\n",
    "AdvP -> RB\n",
    "AdvP -> RB RB\n",
    "NP_subj -> PN_subj\n",
    "NP_subj -> NNS\n",
    "NP_obj -> PN_obj\n",
    "NP_obj -> NNS\n",
    "VP -> VB\n",
    "VP -> VB NP_obj\n",
    "VP -> VB NP_obj NP_obj\n",
    "VP -> VB AdvP\n",
    "VP -> VB NP_obj AdvP\n",
    "VP -> VB NP_obj NP_obj AdvP\n",
    "PN_subj -> 'she'\n",
    "PN_subj -> 'we'\n",
    "PN_obj -> 'us'\n",
    "PN_obj -> 'her'\n",
    "NNS -> 'bills'\n",
    "NNS -> 'coins'\n",
    "VB -> 'give'\n",
    "VB -> 'gives'\n",
    "RB -> 'grudgingly'\n",
    "RB -> 'very'\n",
    "```\n",
    "\n",
    "Out task:\n",
    "\n",
    "1. Add the singular nouns \"man\", \"woman\", and \"coin\", as well as determiner \"the\" to the grammar and extend the `NP_subj` and `NP_obj` rules to cover singular nouns.\n",
    "1. Add the proper nouns \"Thursday\" and \"Bill\" to the grammar and extend the `NP_subj` and `NP_obj` rules to cover proper nouns.\n",
    "1. Extend the grammar with the adjectives \"shiny\" and \"golden\". In addition to the existing NPs, you should also accept noun phrases like \"shiny coins\" and \"golden man\" containing an adjective.\n",
    "1. Add the preposition (IN) \"on\" to the grammar. Extend the adverbial phrase so that is can consist of a prepositional phrase (PP) like \"on Thursday\" which consists of a preposition and an object NP.   "
   ]
  },
  {
   "cell_type": "code",
   "execution_count": 12,
   "metadata": {},
   "outputs": [],
   "source": [
    "from nltk import CFG\n",
    "\n",
    "grammar = CFG.fromstring('''S -> NP_subj VP\n",
    "AdvP -> RB\n",
    "AdvP -> RB RB\n",
    "AdvP -> PP\n",
    "NP_subj -> PN_subj\n",
    "NP_subj -> NNS\n",
    "NP_subj -> NNP\n",
    "NP_subj -> DT NN\n",
    "NP_subj -> DT JJ NN\n",
    "NP_subj -> JJ NNS\n",
    "NP_obj -> PN_obj\n",
    "NP_obj -> NNS\n",
    "NP_obj -> DT NN\n",
    "NP_obj -> DT JJ NN\n",
    "NP_obj -> JJ NNS\n",
    "NP_obj -> NNP\n",
    "PP -> IN NP_obj\n",
    "VP -> VB\n",
    "VP -> VB NP_obj\n",
    "VP -> VB NP_obj NP_obj\n",
    "VP -> VB AdvP\n",
    "VP -> VB NP_obj AdvP\n",
    "VP -> VB NP_obj NP_obj AdvP\n",
    "DT -> 'the'\n",
    "PN_subj -> 'she'\n",
    "PN_subj -> 'we'\n",
    "PN_obj -> 'us'\n",
    "PN_obj -> 'her'\n",
    "IN -> 'on'\n",
    "JJ -> 'shiny'\n",
    "JJ -> 'golden'\n",
    "NN -> 'man'\n",
    "NN -> 'woman'\n",
    "NN -> 'coin'\n",
    "NNP -> 'Bill'\n",
    "NNP -> 'Thursday'\n",
    "NNS -> 'bills'\n",
    "NNS -> 'coins'\n",
    "VB -> 'give'\n",
    "VB -> 'gives'\n",
    "RB -> 'grudgingly'\n",
    "RB -> 'very'\n",
    "''')\n"
   ]
  },
  {
   "cell_type": "markdown",
   "metadata": {},
   "source": [
    "Now we check that the grammar returns at least one parse for each of the following sentences:\n",
    "    \n",
    "```\n",
    "the man gives us coins\n",
    "she gives us the coin\n",
    "Bill gives us coins very grudgingly\n",
    "she gives Bill coins\n",
    "Bill gives us golden coins\n",
    "the golden man gives us shiny coins\n",
    "Bill gives us shiny coins on Thursday\n",
    "```"
   ]
  },
  {
   "cell_type": "code",
   "execution_count": 13,
   "metadata": {},
   "outputs": [
    {
     "name": "stdout",
     "output_type": "stream",
     "text": [
      "Parses for the man gives us coins:\n",
      "(S\n",
      "  (NP_subj (DT the) (NN man))\n",
      "  (VP (VB gives) (NP_obj (PN_obj us)) (NP_obj (NNS coins))))\n",
      "Parses for she gives us the coin:\n",
      "(S\n",
      "  (NP_subj (PN_subj she))\n",
      "  (VP (VB gives) (NP_obj (PN_obj us)) (NP_obj (DT the) (NN coin))))\n",
      "Parses for Bill gives us coins very grudgingly:\n",
      "(S\n",
      "  (NP_subj (NNP Bill))\n",
      "  (VP\n",
      "    (VB gives)\n",
      "    (NP_obj (PN_obj us))\n",
      "    (NP_obj (NNS coins))\n",
      "    (AdvP (RB very) (RB grudgingly))))\n",
      "Parses for she gives Bill coins:\n",
      "(S\n",
      "  (NP_subj (PN_subj she))\n",
      "  (VP (VB gives) (NP_obj (NNP Bill)) (NP_obj (NNS coins))))\n",
      "Parses for Bill gives us golden coins:\n",
      "(S\n",
      "  (NP_subj (NNP Bill))\n",
      "  (VP\n",
      "    (VB gives)\n",
      "    (NP_obj (PN_obj us))\n",
      "    (NP_obj (JJ golden) (NNS coins))))\n",
      "Parses for the golden man gives us shiny coins:\n",
      "(S\n",
      "  (NP_subj (DT the) (JJ golden) (NN man))\n",
      "  (VP\n",
      "    (VB gives)\n",
      "    (NP_obj (PN_obj us))\n",
      "    (NP_obj (JJ shiny) (NNS coins))))\n",
      "Parses for Bill gives us shiny coins on Thursday:\n",
      "(S\n",
      "  (NP_subj (NNP Bill))\n",
      "  (VP\n",
      "    (VB gives)\n",
      "    (NP_obj (PN_obj us))\n",
      "    (NP_obj (JJ shiny) (NNS coins))\n",
      "    (AdvP (PP (IN on) (NP_obj (NNP Thursday))))))\n"
     ]
    }
   ],
   "source": [
    "from nltk.parse import EarleyChartParser\n",
    "\n",
    "nltk_parser  = EarleyChartParser(grammar)\n",
    "\n",
    "sents = [\"the man gives us coins\",\n",
    "\"she gives us the coin\",\n",
    "\"Bill gives us coins very grudgingly\",\n",
    "\"she gives Bill coins\",\n",
    "\"Bill gives us golden coins\",\n",
    "\"the golden man gives us shiny coins\",\n",
    "\"Bill gives us shiny coins on Thursday\"]\n",
    "\n",
    "for sent in sents:\n",
    "    tok_sent = sent.split(\" \")\n",
    "    parses = nltk_parser.parse(tok_sent)\n",
    "    print(\"Parses for %s:\" % sent)\n",
    "    for parse in parses:\n",
    "        print(parse)"
   ]
  },
  {
   "cell_type": "markdown",
   "metadata": {},
   "source": [
    "Use the function `nltk.parse.generate` to generate 20 sentences which are parsed by your grammar. \n",
    "\n",
    "You can use `help(generate)` to figure out how to call the function."
   ]
  },
  {
   "cell_type": "code",
   "execution_count": 14,
   "metadata": {
    "scrolled": false
   },
   "outputs": [
    {
     "name": "stdout",
     "output_type": "stream",
     "text": [
      "['she', 'give']\n",
      "['she', 'gives']\n",
      "['she', 'give', 'us']\n",
      "['she', 'give', 'her']\n",
      "['she', 'give', 'bills']\n",
      "['she', 'give', 'coins']\n",
      "['she', 'give', 'the', 'man']\n",
      "['she', 'give', 'the', 'woman']\n",
      "['she', 'give', 'the', 'coin']\n",
      "['she', 'give', 'the', 'shiny', 'man']\n",
      "['she', 'give', 'the', 'shiny', 'woman']\n",
      "['she', 'give', 'the', 'shiny', 'coin']\n",
      "['she', 'give', 'the', 'golden', 'man']\n",
      "['she', 'give', 'the', 'golden', 'woman']\n",
      "['she', 'give', 'the', 'golden', 'coin']\n",
      "['she', 'give', 'shiny', 'bills']\n",
      "['she', 'give', 'shiny', 'coins']\n",
      "['she', 'give', 'golden', 'bills']\n",
      "['she', 'give', 'golden', 'coins']\n",
      "['she', 'give', 'Bill']\n"
     ]
    }
   ],
   "source": [
    "from nltk.parse.generate import generate\n",
    "\n",
    "for s in generate(grammar,n=20):\n",
    "    print(s)"
   ]
  },
  {
   "cell_type": "markdown",
   "metadata": {},
   "source": [
    "### 2)Adding subject-verb agreement\n",
    "\n",
    "English display number agreement between a 3rd person subject and verb. This is why \"she **gives** Bill coins\" and \"we **give** Bill coins\" are grammatical, but \"\\*she **give** Bill coins\" and \"\\*we **gives** Bill coins\" are not.\n",
    "\n",
    "Our grammar will happily parse both the grammatical and ungrammatical sentences. Please make sure that this is the case."
   ]
  },
  {
   "cell_type": "code",
   "execution_count": 15,
   "metadata": {},
   "outputs": [
    {
     "name": "stdout",
     "output_type": "stream",
     "text": [
      "Parses for she gives Bill coins:\n",
      "(S\n",
      "  (NP_subj (PN_subj she))\n",
      "  (VP (VB gives) (NP_obj (NNP Bill)) (NP_obj (NNS coins))))\n",
      "Parses for we give Bill coins:\n",
      "(S\n",
      "  (NP_subj (PN_subj we))\n",
      "  (VP (VB give) (NP_obj (NNP Bill)) (NP_obj (NNS coins))))\n",
      "Parses for she give Bill coins:\n",
      "(S\n",
      "  (NP_subj (PN_subj she))\n",
      "  (VP (VB give) (NP_obj (NNP Bill)) (NP_obj (NNS coins))))\n",
      "Parses for we gives Bill coins:\n",
      "(S\n",
      "  (NP_subj (PN_subj we))\n",
      "  (VP (VB gives) (NP_obj (NNP Bill)) (NP_obj (NNS coins))))\n"
     ]
    }
   ],
   "source": [
    "sents = [\"she gives Bill coins\",\n",
    "\"we give Bill coins\",\n",
    "\"she give Bill coins\",\n",
    "\"we gives Bill coins\"         \n",
    "]\n",
    "\n",
    "# your code here\n",
    "\n",
    "for sent in sents:\n",
    "    tok_sent = sent.split(\" \")\n",
    "    parses = nltk_parser.parse(tok_sent)\n",
    "    print(\"Parses for %s:\" % sent)\n",
    "    for parse in parses:\n",
    "        print(parse)"
   ]
  },
  {
   "cell_type": "markdown",
   "metadata": {},
   "source": [
    "Now we want to specialize verb and subject phrases to handle subject-verb agreement. We need to create new phrase types `NP_subj_sg`, `NP_subj_pl`, `VP_sg` and `VP_pl` to handle the agreement."
   ]
  },
  {
   "cell_type": "code",
   "execution_count": 16,
   "metadata": {},
   "outputs": [],
   "source": [
    "# your code here\n",
    "\n",
    "grammar = CFG.fromstring('''S -> NP_subj_sg VP_sg\n",
    "S -> NP_subj_pl VP_pl\n",
    "AdvP -> RB\n",
    "AdvP -> RB RB\n",
    "AdvP -> PP\n",
    "NP_subj_sg -> PN_subj_sg\n",
    "NP_subj_pl -> PN_subj_pl\n",
    "NP_subj_pl -> NNS\n",
    "NP_subj_sg -> NNP\n",
    "NP_subj_sg -> DT NN\n",
    "NP_subj_sg -> DT JJ NN\n",
    "NP_subj_pl -> JJ NNS\n",
    "NP_obj -> PN_obj\n",
    "NP_obj -> NNS\n",
    "NP_obj -> DT NN\n",
    "NP_obj -> DT JJ NN\n",
    "NP_obj -> JJ NNS\n",
    "NP_obj -> NNP\n",
    "PP -> IN NP_obj\n",
    "VP_sg -> VB_sg\n",
    "VP_pl -> VB_pl\n",
    "VP_sg -> VB_sg NP_obj\n",
    "VP_pl -> VB_pl NP_obj\n",
    "VP_sg -> VB_sg NP_obj NP_obj\n",
    "VP_pl -> VB_pl NP_obj NP_obj\n",
    "VP_sg -> VB_sg AdvP\n",
    "VP_pl -> VB_pl AdvP\n",
    "VP_sg -> VB_sg NP_obj AdvP\n",
    "VP_pl -> VB_pl NP_obj AdvP\n",
    "VP_sg -> VB_sg NP_obj NP_obj AdvP\n",
    "VP_pl -> VB_pl NP_obj NP_obj AdvP\n",
    "DT -> 'the'\n",
    "PN_subj_sg -> 'she'\n",
    "PN_subj_pl -> 'we'\n",
    "PN_obj -> 'us'\n",
    "PN_obj -> 'her'\n",
    "IN -> 'on'\n",
    "JJ -> 'shiny'\n",
    "JJ -> 'golden'\n",
    "NN -> 'man'\n",
    "NN -> 'woman'\n",
    "NN -> 'coin'\n",
    "NNP -> 'Bill'\n",
    "NNP -> 'Thursday'\n",
    "NNS -> 'bills'\n",
    "NNS -> 'coins'\n",
    "VB_pl -> 'give'\n",
    "VB_sg -> 'gives'\n",
    "RB -> 'grudgingly'\n",
    "RB -> 'very'\n",
    "''')\n"
   ]
  },
  {
   "cell_type": "markdown",
   "metadata": {},
   "source": [
    "Our grammar now correctly handles the example sentences \"she gives Bill coins\", \"we give Bill coins\", \"she give Bill coins\" and \"we gives Bill coins\". **Remember to reinitialize the nltk_parser object with the modified grammar**."
   ]
  },
  {
   "cell_type": "code",
   "execution_count": 17,
   "metadata": {},
   "outputs": [
    {
     "name": "stdout",
     "output_type": "stream",
     "text": [
      "Parses for she gives Bill coins:\n",
      "(S\n",
      "  (NP_subj_sg (PN_subj_sg she))\n",
      "  (VP_sg (VB_sg gives) (NP_obj (NNP Bill)) (NP_obj (NNS coins))))\n",
      "Parses for we give Bill coins:\n",
      "(S\n",
      "  (NP_subj_pl (PN_subj_pl we))\n",
      "  (VP_pl (VB_pl give) (NP_obj (NNP Bill)) (NP_obj (NNS coins))))\n",
      "Parses for she give Bill coins:\n",
      "Parses for we gives Bill coins:\n"
     ]
    }
   ],
   "source": [
    "nltk_parser  = EarleyChartParser(grammar)\n",
    "\n",
    "sents = [\"she gives Bill coins\",\n",
    "\"we give Bill coins\",\n",
    "\"she give Bill coins\",\n",
    "\"we gives Bill coins\"         \n",
    "]\n",
    "\n",
    "for sent in sents:\n",
    "    tok_sent = sent.split(\" \")\n",
    "    parses = nltk_parser.parse(tok_sent)\n",
    "    print(\"Parses for %s:\" % sent)\n",
    "    for parse in parses:\n",
    "        print(parse)"
   ]
  },
  {
   "cell_type": "markdown",
   "metadata": {},
   "source": [
    "Implementing subject-verb agreement this way feels a bit cumbersome, but we will learn another way to do this more elegantly later."
   ]
  },
  {
   "cell_type": "markdown",
   "metadata": {},
   "source": []
  }
 ],
 "metadata": {
  "kernelspec": {
   "display_name": "Python 3 (ipykernel)",
   "language": "python",
   "name": "python3"
  },
  "language_info": {
   "codemirror_mode": {
    "name": "ipython",
    "version": 3
   },
   "file_extension": ".py",
   "mimetype": "text/x-python",
   "name": "python",
   "nbconvert_exporter": "python",
   "pygments_lexer": "ipython3",
   "version": "3.9.5"
  }
 },
 "nbformat": 4,
 "nbformat_minor": 4
}

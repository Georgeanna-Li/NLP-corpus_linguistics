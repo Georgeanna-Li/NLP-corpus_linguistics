{
 "cells": [
  {
   "cell_type": "markdown",
   "metadata": {},
   "source": [
    "# 6: Earley parsing and PCFGs\n",
    "\n",
    "## 1. Earley parsing in NLTK\n",
    "\n",
    "We will start by creating a CFG."
   ]
  },
  {
   "cell_type": "code",
   "execution_count": 1,
   "metadata": {},
   "outputs": [],
   "source": [
    "from nltk.grammar import CFG\n",
    "\n",
    "grammar = CFG.fromstring('''S -> NP VP\n",
    "NP -> DT NN\n",
    "VP -> VBD\n",
    "VP -> VBD NP\n",
    "DT -> \"the\"\n",
    "NN -> \"dog\"\n",
    "NN -> \"saw\"\n",
    "NN -> \"cat\"\n",
    "VBD -> \"saw\"\n",
    "''')"
   ]
  },
  {
   "cell_type": "markdown",
   "metadata": {},
   "source": [
    "We can then create an Earley parser and parse a sentence."
   ]
  },
  {
   "cell_type": "code",
   "execution_count": 2,
   "metadata": {},
   "outputs": [
    {
     "name": "stdout",
     "output_type": "stream",
     "text": [
      "|.  the  .  cat  .  saw  .  the  .  dog  .|\n",
      "|[-------]       .       .       .       .| [0:1] 'the'\n",
      "|.       [-------]       .       .       .| [1:2] 'cat'\n",
      "|.       .       [-------]       .       .| [2:3] 'saw'\n",
      "|.       .       .       [-------]       .| [3:4] 'the'\n",
      "|.       .       .       .       [-------]| [4:5] 'dog'\n",
      "|>       .       .       .       .       .| [0:0] S  -> * NP VP\n",
      "|>       .       .       .       .       .| [0:0] NP -> * DT NN\n",
      "|>       .       .       .       .       .| [0:0] DT -> * 'the'\n",
      "|[-------]       .       .       .       .| [0:1] DT -> 'the' *\n",
      "|[------->       .       .       .       .| [0:1] NP -> DT * NN\n",
      "|.       >       .       .       .       .| [1:1] NN -> * 'cat'\n",
      "|.       [-------]       .       .       .| [1:2] NN -> 'cat' *\n",
      "|[---------------]       .       .       .| [0:2] NP -> DT NN *\n",
      "|[--------------->       .       .       .| [0:2] S  -> NP * VP\n",
      "|.       .       >       .       .       .| [2:2] VP -> * VBD\n",
      "|.       .       >       .       .       .| [2:2] VP -> * VBD NP\n",
      "|.       .       >       .       .       .| [2:2] VBD -> * 'saw'\n",
      "|.       .       [-------]       .       .| [2:3] VBD -> 'saw' *\n",
      "|.       .       [-------]       .       .| [2:3] VP -> VBD *\n",
      "|.       .       [------->       .       .| [2:3] VP -> VBD * NP\n",
      "|.       .       .       >       .       .| [3:3] NP -> * DT NN\n",
      "|.       .       .       >       .       .| [3:3] DT -> * 'the'\n",
      "|[-----------------------]       .       .| [0:3] S  -> NP VP *\n",
      "|.       .       .       [-------]       .| [3:4] DT -> 'the' *\n",
      "|.       .       .       [------->       .| [3:4] NP -> DT * NN\n",
      "|.       .       .       .       >       .| [4:4] NN -> * 'dog'\n",
      "|.       .       .       .       [-------]| [4:5] NN -> 'dog' *\n",
      "|.       .       .       [---------------]| [3:5] NP -> DT NN *\n",
      "|.       .       [-----------------------]| [2:5] VP -> VBD NP *\n",
      "|[=======================================]| [0:5] S  -> NP VP *\n"
     ]
    },
    {
     "data": {
      "image/png": "[encoded data removed]",
      "text/plain": [
       "Tree('S', [Tree('NP', [Tree('DT', ['the']), Tree('NN', ['cat'])]), Tree('VP', [Tree('VBD', ['saw']), Tree('NP', [Tree('DT', ['the']), Tree('NN', ['dog'])])])])"
      ]
     },
     "execution_count": 2,
     "metadata": {},
     "output_type": "execute_result"
    }
   ],
   "source": [
    "from nltk.parse import EarleyChartParser\n",
    "\n",
    "# Use the trace option to print the Earley parse table\n",
    "earley_parser = EarleyChartParser(grammar, trace=1)\n",
    "\n",
    "earley_parser.parse_one(\"the cat saw the dog\".split(\" \"))"
   ]
  },
  {
   "cell_type": "markdown",
   "metadata": {},
   "source": [
    "Here's an annotated version of the trace:\n",
    "\n",
    "```\n",
    "|.  the  .  cat  .  saw  .  the  .  dog  .|\n",
    "|[-------]       .       .       .       .| [0:1] 'the'          # The parser first prints all our word forms\n",
    "|.       [-------]       .       .       .| [1:2] 'cat'\n",
    "|.       .       [-------]       .       .| [2:3] 'saw'\n",
    "|.       .       .       [-------]       .| [3:4] 'the'\n",
    "|.       .       .       .       [-------]| [4:5] 'dog'\n",
    "|>       .       .       .       .       .| [0:0] S  -> * NP VP  # This is the START operation\n",
    "|>       .       .       .       .       .| [0:0] NP -> * DT NN  # We use the predictor and then the scanner\n",
    "|>       .       .       .       .       .| [0:0] DT -> * 'the'\n",
    "|[-------]       .       .       .       .| [0:1] DT -> 'the' *  # Indicates that a lexical rule matched\n",
    "|[------->       .       .       .       .| [0:1] NP -> DT * NN  # The completer advances one of our rules\n",
    "|.       >       .       .       .       .| [1:1] NN -> * 'cat'\n",
    "|.       [-------]       .       .       .| [1:2] NN -> 'cat' *  # Matching a lexical rule again\n",
    "|[---------------]       .       .       .| [0:2] NP -> DT NN *  # And this triggers completion of an NP rule\n",
    "|[--------------->       .       .       .| [0:2] S  -> NP * VP  # Which in turn advances our S rule\n",
    "|.       .       >       .       .       .| [2:2] VP -> * VBD    # The predictor copies VP rules for us\n",
    "|.       .       >       .       .       .| [2:2] VP -> * VBD NP\n",
    "|.       .       >       .       .       .| [2:2] VBD -> * 'saw' # Matching a lexical rule again\n",
    "|.       .       [-------]       .       .| [2:3] VBD -> 'saw' *\n",
    "|.       .       [-------]       .       .| [2:3] VP -> VBD *    # VP rules are advanced\n",
    "|.       .       [------->       .       .| [2:3] VP -> VBD * NP\n",
    "|.       .       .       >       .       .| [3:3] NP -> * DT NN  # The predictor copies NP rules\n",
    "|.       .       .       >       .       .| [3:3] DT -> * 'the'  # Matching a lexical rule again\n",
    "|[-----------------------]       .       .| [0:3] S  -> NP VP *  # We got an S match here for \"the cat saw\"\n",
    "|.       .       .       [-------]       .| [3:4] DT -> 'the' *  # Matching a lexical rule again\n",
    "|.       .       .       [------->       .| [3:4] NP -> DT * NN  # The predictor copies NP rules\n",
    "|.       .       .       .       >       .| [4:4] NN -> * 'dog'  # Matching a lexical rule again\n",
    "|.       .       .       .       [-------]| [4:5] NN -> 'dog' *  \n",
    "|.       .       .       [---------------]| [3:5] NP -> DT NN *  # Completion of the NP rule\n",
    "|.       .       [-----------------------]| [2:5] VP -> VBD NP * # Completion of the VP rule\n",
    "|[=======================================]| [0:5] S  -> NP VP *  # And, finally, completion of our S rule\n",
    "```"
   ]
  },
  {
   "cell_type": "markdown",
   "metadata": {},
   "source": [
    "## 2. PCFG parsing \n",
    "\n",
    "This is how to create a PCFG and parse:"
   ]
  },
  {
   "cell_type": "code",
   "execution_count": 3,
   "metadata": {},
   "outputs": [
    {
     "name": "stdout",
     "output_type": "stream",
     "text": [
      "(S\n",
      "  (NP (DT the) (NN dog))\n",
      "  (VP\n",
      "    (VP (VBZ eats) (NP (DT a) (NN bone)))\n",
      "    (PP (IN on) (NP (DT the) (NN porch))))) (p=0.0006561)\n",
      "(S\n",
      "  (NP (DT the) (NN dog))\n",
      "  (VP\n",
      "    (VBZ eats)\n",
      "    (NP\n",
      "      (NP (DT a) (NN bone))\n",
      "      (PP (IN on) (NP (DT the) (NN porch)))))) (p=0.000164025)\n"
     ]
    }
   ],
   "source": [
    "from nltk import PCFG\n",
    "\n",
    "pcfg = PCFG.fromstring('''S -> NP VP [1.0]\n",
    "NP -> DT NN [0.9] | NP PP [0.1]\n",
    "VP -> VBZ NP [0.6] | VP PP [0.4]\n",
    "PP -> IN NP [1.0]\n",
    "NN -> \"dog\" [0.5] | \"bone\" [0.2] | \"porch\" [0.3]\n",
    "VBZ -> \"eats\" [1.0]\n",
    "IN -> \"on\" [1.0]\n",
    "DT -> \"the\" [0.5] | \"a\" [0.5]\n",
    "''')\n",
    "\n",
    "from nltk.parse import InsideChartParser\n",
    "\n",
    "parser = InsideChartParser(pcfg)\n",
    "\n",
    "for tree in parser.parse(\"the dog eats a bone on the porch\".split(\" \")):\n",
    "    print(tree)"
   ]
  },
  {
   "cell_type": "markdown",
   "metadata": {},
   "source": [
    "For longer sentences and realistic grammars, there might be hundreds or thousands of distinct parse trees. It is not a good idea to generate all of these. Instead we want to use the probabilistic CYK algorithm (or something similar) to generate only the most probable tree. We can do this using `ViterbiParser` which is an implementation of probabilistic CYK. "
   ]
  },
  {
   "cell_type": "code",
   "execution_count": 4,
   "metadata": {},
   "outputs": [
    {
     "name": "stdout",
     "output_type": "stream",
     "text": [
      "(S\n",
      "  (NP (DT the) (NN dog))\n",
      "  (VP\n",
      "    (VP (VBZ eats) (NP (DT a) (NN bone)))\n",
      "    (PP (IN on) (NP (DT the) (NN porch))))) (p=0.0006561)\n"
     ]
    }
   ],
   "source": [
    "from nltk.parse.viterbi import ViterbiParser\n",
    "\n",
    "parser = ViterbiParser(pcfg)\n",
    "\n",
    "for tree in parser.parse(\"the dog eats a bone on the porch\".split(\" \")):\n",
    "    print(tree)"
   ]
  },
  {
   "cell_type": "markdown",
   "metadata": {},
   "source": []
  }
 ],
 "metadata": {
  "kernelspec": {
   "display_name": "Python 3 (ipykernel)",
   "language": "python",
   "name": "python3"
  },
  "language_info": {
   "codemirror_mode": {
    "name": "ipython",
    "version": 3
   },
   "file_extension": ".py",
   "mimetype": "text/x-python",
   "name": "python",
   "nbconvert_exporter": "python",
   "pygments_lexer": "ipython3",
   "version": "3.9.5"
  }
 },
 "nbformat": 4,
 "nbformat_minor": 4
}

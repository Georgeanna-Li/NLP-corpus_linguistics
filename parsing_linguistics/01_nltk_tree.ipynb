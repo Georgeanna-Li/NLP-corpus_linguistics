{
 "cells": [
  {
   "cell_type": "markdown",
   "metadata": {},
   "source": [
    "# 1: nltk.tree.Tree\n",
    "\n",
    "In this notebook, we will explore how to represent and manipulate syntax trees in NLTK.\n",
    "\n",
    "Let's start by importing the syntax tree class."
   ]
  },
  {
   "cell_type": "code",
   "execution_count": 1,
   "metadata": {},
   "outputs": [],
   "source": [
    "from nltk.tree import Tree"
   ]
  },
  {
   "cell_type": "markdown",
   "metadata": {},
   "source": [
    "## 1. Building trees\n",
    "\n",
    "Let's build a syntax tree for the sentence *I met a Bill* which has the following syntax tree:\n",
    "\n",
    "![tree](bill_tree.png)"
   ]
  },
  {
   "cell_type": "markdown",
   "metadata": {},
   "source": [
    "There exist two ways to build syntax trees. First, we can build the tree recursively, starting with individual phrases and combining those into larger phrases and finally ending up with the entire sentence."
   ]
  },
  {
   "cell_type": "code",
   "execution_count": 2,
   "metadata": {},
   "outputs": [
    {
     "name": "stdout",
     "output_type": "stream",
     "text": [
      "(S (NP (PRP I)) (VP (VBD met) (NP (NNP Bill))))\n"
     ]
    }
   ],
   "source": [
    "pron = Tree(\"PRP\", [\"I\"])\n",
    "verb = Tree(\"VBD\", [\"met\"])\n",
    "proper = Tree(\"NNP\",[\"Bill\"])\n",
    "\n",
    "np_subj = Tree(\"NP\", [pron])\n",
    "np_obj = Tree(\"NP\", [proper])\n",
    "vp = Tree(\"VP\", [verb, np_obj])\n",
    "s = Tree(\"S\", [np_subj, vp])\n",
    "\n",
    "print(s)"
   ]
  },
  {
   "cell_type": "markdown",
   "metadata": {},
   "source": [
    "Another way is to construct trees from a bracketed string which represents the nested phrases in the tree."
   ]
  },
  {
   "cell_type": "code",
   "execution_count": 3,
   "metadata": {},
   "outputs": [
    {
     "name": "stdout",
     "output_type": "stream",
     "text": [
      "(S (NP (PRP I)) (VP (VBD met) (NP (NNP Bill))))\n"
     ]
    }
   ],
   "source": [
    "t = Tree.fromstring(\"(S (NP (PRP I)) (VP (VBD met) (NP (NNP Bill))))\")\n",
    "print(t)"
   ]
  },
  {
   "cell_type": "markdown",
   "metadata": {},
   "source": [
    "#### Another example:\n",
    "\n",
    "Use `Tree.fromstring` to generate an nltk tree for the following syntax tree:\n",
    "\n",
    "![tree](dog_tree.png)"
   ]
  },
  {
   "cell_type": "code",
   "execution_count": 4,
   "metadata": {},
   "outputs": [
    {
     "name": "stdout",
     "output_type": "stream",
     "text": [
      "(S (NP (DT the) (NN dog)) (VP (VBD saw) (NP (DT the) (NN cat))))\n"
     ]
    }
   ],
   "source": [
    "t = Tree.fromstring(\"(S (NP (DT the) (NN dog)) (VP (VBD saw) (NP (DT the) (NN cat))))\")\n",
    "print(t)"
   ]
  },
  {
   "cell_type": "markdown",
   "metadata": {},
   "source": [
    "Construct the same tree but this time one node at a time using the `Tree` class constructor."
   ]
  },
  {
   "cell_type": "code",
   "execution_count": 5,
   "metadata": {},
   "outputs": [
    {
     "name": "stdout",
     "output_type": "stream",
     "text": [
      "(S (NP (DT the) (NN cat)) (VP (VBD saw) (NP (DT the) (NN dog))))\n"
     ]
    }
   ],
   "source": [
    "the = Tree(\"DT\",[\"the\"])\n",
    "dog = Tree(\"NN\", [\"dog\"])\n",
    "saw = Tree(\"VBD\", [\"saw\"])\n",
    "cat = Tree(\"NN\", [\"cat\"])\n",
    "np_subj = Tree(\"NP\", [the, dog])\n",
    "np_obj = Tree(\"NP\", [the, cat])\n",
    "vp = Tree(\"VP\", [saw, np_subj])\n",
    "s = Tree(\"S\", [np_obj, vp])\n",
    "print(s)"
   ]
  },
  {
   "cell_type": "markdown",
   "metadata": {},
   "source": [
    "So far, we have used plain word forms as leaves in our syntax trees. However, `nltk` also supports an alternative representation where the leaves are `(token,POS)` pairs, where both `token` and `POS` are strings, for example `(\"The\",\"DT\")`. Construct a syntax tree for *The dog saw the cat* one node at a time using this alternative format. Here, for example `(\"The\",\"DT\")` and `(\"dog\",\"NN\")` will be direct leaf-nodes of an `NP` node. \n",
    "\n",
    "The string representation for your tree should look like this:\n",
    "```\n",
    "(S (NP The/DT dog/NN) (VP saw/VBD (NP the/DT cat/NN)))\n",
    "```"
   ]
  },
  {
   "cell_type": "code",
   "execution_count": 6,
   "metadata": {},
   "outputs": [
    {
     "name": "stdout",
     "output_type": "stream",
     "text": [
      "(S (NP The/DT dog/NN) (VP saw/VBD (NP the/DT cat/NN)))\n"
     ]
    }
   ],
   "source": [
    "subject_node = Tree(\"NP\",[(\"The\",\"DT\"),(\"dog\",\"NN\")])\n",
    "object_node = Tree(\"NP\",[(\"the\",\"DT\"),(\"cat\",\"NN\")])\n",
    "vp_node = Tree(\"VP\",[(\"saw\",\"VBD\"),object_node])\n",
    "\n",
    "s = Tree(\"S\",[subject_node,vp_node])\n",
    "print(s)"
   ]
  },
  {
   "cell_type": "markdown",
   "metadata": {},
   "source": [
    "## 2. Treebanks\n",
    "\n",
    "Let's now import the Penn treebank and look at a few more complex trees."
   ]
  },
  {
   "cell_type": "code",
   "execution_count": 7,
   "metadata": {},
   "outputs": [
    {
     "name": "stdout",
     "output_type": "stream",
     "text": [
      "3914\n"
     ]
    }
   ],
   "source": [
    "from nltk.corpus import treebank\n",
    "\n",
    "# The function parsed_sents() returns the syntax trees in the treebank.\n",
    "syntax_trees = treebank.parsed_sents()\n",
    "\n",
    "print(len(syntax_trees))"
   ]
  },
  {
   "cell_type": "code",
   "execution_count": 8,
   "metadata": {},
   "outputs": [
    {
     "name": "stdout",
     "output_type": "stream",
     "text": [
      "(S\n",
      "  (NP-SBJ\n",
      "    (NP (NNP Pierre) (NNP Vinken))\n",
      "    (, ,)\n",
      "    (ADJP (NP (CD 61) (NNS years)) (JJ old))\n",
      "    (, ,))\n",
      "  (VP\n",
      "    (MD will)\n",
      "    (VP\n",
      "      (VB join)\n",
      "      (NP (DT the) (NN board))\n",
      "      (PP-CLR (IN as) (NP (DT a) (JJ nonexecutive) (NN director)))\n",
      "      (NP-TMP (NNP Nov.) (CD 29))))\n",
      "  (. .))\n"
     ]
    }
   ],
   "source": [
    "tree = syntax_trees[0]\n",
    "\n",
    "print(tree)"
   ]
  },
  {
   "cell_type": "markdown",
   "metadata": {},
   "source": [
    "## 3. Navigating trees\n",
    "\n",
    "Each tree consists of a label and number of constituents (these are also called children or child nodes)"
   ]
  },
  {
   "cell_type": "code",
   "execution_count": 9,
   "metadata": {},
   "outputs": [
    {
     "name": "stdout",
     "output_type": "stream",
     "text": [
      "S\n"
     ]
    }
   ],
   "source": [
    "print(tree.label())"
   ]
  },
  {
   "cell_type": "code",
   "execution_count": 10,
   "metadata": {},
   "outputs": [
    {
     "name": "stdout",
     "output_type": "stream",
     "text": [
      "(NP-SBJ\n",
      "  (NP (NNP Pierre) (NNP Vinken))\n",
      "  (, ,)\n",
      "  (ADJP (NP (CD 61) (NNS years)) (JJ old))\n",
      "  (, ,))\n",
      "---\n",
      "(VP\n",
      "  (MD will)\n",
      "  (VP\n",
      "    (VB join)\n",
      "    (NP (DT the) (NN board))\n",
      "    (PP-CLR (IN as) (NP (DT a) (JJ nonexecutive) (NN director)))\n",
      "    (NP-TMP (NNP Nov.) (CD 29))))\n",
      "---\n",
      "(. .)\n",
      "---\n"
     ]
    }
   ],
   "source": [
    "for phrase in tree:\n",
    "    print(phrase)\n",
    "    print(\"---\")"
   ]
  },
  {
   "cell_type": "markdown",
   "metadata": {},
   "source": [
    "We can check how many children the tree has using `len()`"
   ]
  },
  {
   "cell_type": "code",
   "execution_count": 11,
   "metadata": {},
   "outputs": [
    {
     "name": "stdout",
     "output_type": "stream",
     "text": [
      "3\n"
     ]
    }
   ],
   "source": [
    "print(len(tree))"
   ]
  },
  {
   "cell_type": "markdown",
   "metadata": {},
   "source": [
    "We can access children by indexing"
   ]
  },
  {
   "cell_type": "code",
   "execution_count": 12,
   "metadata": {},
   "outputs": [
    {
     "name": "stdout",
     "output_type": "stream",
     "text": [
      "(NP-SBJ\n",
      "  (NP (NNP Pierre) (NNP Vinken))\n",
      "  (, ,)\n",
      "  (ADJP (NP (CD 61) (NNS years)) (JJ old))\n",
      "  (, ,))\n"
     ]
    }
   ],
   "source": [
    "print(tree[0])"
   ]
  },
  {
   "cell_type": "markdown",
   "metadata": {},
   "source": [
    "We can also iterate over all phrases which are nested in the current tree"
   ]
  },
  {
   "cell_type": "code",
   "execution_count": 13,
   "metadata": {},
   "outputs": [
    {
     "name": "stdout",
     "output_type": "stream",
     "text": [
      "(S\n",
      "  (NP-SBJ\n",
      "    (NP (NNP Pierre) (NNP Vinken))\n",
      "    (, ,)\n",
      "    (ADJP (NP (CD 61) (NNS years)) (JJ old))\n",
      "    (, ,))\n",
      "  (VP\n",
      "    (MD will)\n",
      "    (VP\n",
      "      (VB join)\n",
      "      (NP (DT the) (NN board))\n",
      "      (PP-CLR (IN as) (NP (DT a) (JJ nonexecutive) (NN director)))\n",
      "      (NP-TMP (NNP Nov.) (CD 29))))\n",
      "  (. .))\n",
      "---\n",
      "(NP-SBJ\n",
      "  (NP (NNP Pierre) (NNP Vinken))\n",
      "  (, ,)\n",
      "  (ADJP (NP (CD 61) (NNS years)) (JJ old))\n",
      "  (, ,))\n",
      "---\n",
      "(NP (NNP Pierre) (NNP Vinken))\n",
      "---\n",
      "(NNP Pierre)\n",
      "---\n",
      "(NNP Vinken)\n",
      "---\n",
      "(, ,)\n",
      "---\n",
      "(ADJP (NP (CD 61) (NNS years)) (JJ old))\n",
      "---\n",
      "(NP (CD 61) (NNS years))\n",
      "---\n",
      "(CD 61)\n",
      "---\n",
      "(NNS years)\n",
      "---\n",
      "(JJ old)\n",
      "---\n",
      "(, ,)\n",
      "---\n",
      "(VP\n",
      "  (MD will)\n",
      "  (VP\n",
      "    (VB join)\n",
      "    (NP (DT the) (NN board))\n",
      "    (PP-CLR (IN as) (NP (DT a) (JJ nonexecutive) (NN director)))\n",
      "    (NP-TMP (NNP Nov.) (CD 29))))\n",
      "---\n",
      "(MD will)\n",
      "---\n",
      "(VP\n",
      "  (VB join)\n",
      "  (NP (DT the) (NN board))\n",
      "  (PP-CLR (IN as) (NP (DT a) (JJ nonexecutive) (NN director)))\n",
      "  (NP-TMP (NNP Nov.) (CD 29)))\n",
      "---\n",
      "(VB join)\n",
      "---\n",
      "(NP (DT the) (NN board))\n",
      "---\n",
      "(DT the)\n",
      "---\n",
      "(NN board)\n",
      "---\n",
      "(PP-CLR (IN as) (NP (DT a) (JJ nonexecutive) (NN director)))\n",
      "---\n",
      "(IN as)\n",
      "---\n",
      "(NP (DT a) (JJ nonexecutive) (NN director))\n",
      "---\n",
      "(DT a)\n",
      "---\n",
      "(JJ nonexecutive)\n",
      "---\n",
      "(NN director)\n",
      "---\n",
      "(NP-TMP (NNP Nov.) (CD 29))\n",
      "---\n",
      "(NNP Nov.)\n",
      "---\n",
      "(CD 29)\n",
      "---\n",
      "(. .)\n",
      "---\n"
     ]
    }
   ],
   "source": [
    "for phrase in tree.subtrees():\n",
    "    print(phrase)\n",
    "    print(\"---\")"
   ]
  },
  {
   "cell_type": "markdown",
   "metadata": {},
   "source": [
    "Above will iterate through all the subtrees, and it goes inside a subtree to return another subtree. If we only want the subtrees with height equal to 2, we can instead:"
   ]
  },
  {
   "cell_type": "code",
   "execution_count": 20,
   "metadata": {},
   "outputs": [
    {
     "name": "stdout",
     "output_type": "stream",
     "text": [
      "(D the)\n",
      "(N dog)\n",
      "(V chased)\n",
      "(D the)\n",
      "(N cat)\n"
     ]
    }
   ],
   "source": [
    "t = Tree.fromstring(\"(S (NP (D the) (N dog)) (VP (V chased) (NP (D the) (N cat))))\")\n",
    "for s in t.subtrees(lambda t: t.height() == 2):\n",
    "    print(s)"
   ]
  },
  {
   "cell_type": "markdown",
   "metadata": {},
   "source": [
    "We can print the phrase which is associated with a given tree"
   ]
  },
  {
   "cell_type": "code",
   "execution_count": 14,
   "metadata": {},
   "outputs": [
    {
     "name": "stdout",
     "output_type": "stream",
     "text": [
      "['Pierre', 'Vinken', ',', '61', 'years', 'old', ',', 'will', 'join', 'the', 'board', 'as', 'a', 'nonexecutive', 'director', 'Nov.', '29', '.']\n"
     ]
    }
   ],
   "source": [
    "print(tree.leaves())"
   ]
  },
  {
   "cell_type": "markdown",
   "metadata": {},
   "source": [
    "Tree height is an important property. The height of the following tree is 5 because it is the length of the longest chain starting at the root S and going all the way to a leaf node: S - VP - NP - NNP - Bill "
   ]
  },
  {
   "cell_type": "code",
   "execution_count": 15,
   "metadata": {},
   "outputs": [
    {
     "name": "stdout",
     "output_type": "stream",
     "text": [
      "5\n"
     ]
    }
   ],
   "source": [
    "tree = Tree.fromstring(\"(S (NP (PRP I)) (VP (VBD met) (NP (NNP Bill))))\")\n",
    "print(tree.height())"
   ]
  },
  {
   "cell_type": "code",
   "execution_count": 16,
   "metadata": {},
   "outputs": [
    {
     "data": {
      "image/png": "[encoded data removed]",
      "text/plain": [
       "Tree('S', [Tree('NP', [Tree('PRP', ['I'])]), Tree('VP', [Tree('VBD', ['met']), Tree('NP', [Tree('NNP', ['Bill'])])])])"
      ]
     },
     "execution_count": 16,
     "metadata": {},
     "output_type": "execute_result"
    }
   ],
   "source": [
    "tree"
   ]
  },
  {
   "cell_type": "markdown",
   "metadata": {},
   "source": [
    "The only trees with height 1 are _preterminals_ `(POS word)`. All phrases have height `>= 2`."
   ]
  },
  {
   "cell_type": "code",
   "execution_count": 17,
   "metadata": {},
   "outputs": [
    {
     "name": "stdout",
     "output_type": "stream",
     "text": [
      "2\n",
      "3\n"
     ]
    }
   ],
   "source": [
    "tree = Tree.fromstring(\"(NNP Mary)\")\n",
    "print(tree.height())\n",
    "\n",
    "tree = Tree.fromstring(\"(NP (NNP Mary))\")\n",
    "print(tree.height())"
   ]
  },
  {
   "cell_type": "code",
   "execution_count": 18,
   "metadata": {},
   "outputs": [
    {
     "name": "stdout",
     "output_type": "stream",
     "text": [
      "[Tree('NP', [Tree('NNP', ['Mary'])]), Tree('NNP', ['Mary'])]\n",
      "(NP Mary)\n"
     ]
    }
   ],
   "source": [
    "print(list(tree.subtrees()))\n",
    "print(tree.flatten())"
   ]
  },
  {
   "cell_type": "markdown",
   "metadata": {},
   "source": [
    "`tree.flatten()` returns a tree consisting of this tree’s root connected directly to its leaves, omitting all intervening non-terminal nodes."
   ]
  },
  {
   "cell_type": "code",
   "execution_count": 19,
   "metadata": {},
   "outputs": [
    {
     "name": "stdout",
     "output_type": "stream",
     "text": [
      "(S the dog chased the cat)\n"
     ]
    }
   ],
   "source": [
    "t = Tree.fromstring(\"(S (NP (D the) (N dog)) (VP (V chased) (NP (D the) (N cat))))\")\n",
    "print(t.flatten())"
   ]
  },
  {
   "cell_type": "markdown",
   "metadata": {},
   "source": [
    "`tree.pos()` returns a sequence of pos-tagged words extracted from the tree."
   ]
  },
  {
   "cell_type": "code",
   "execution_count": 21,
   "metadata": {},
   "outputs": [
    {
     "data": {
      "text/plain": [
       "[('the', 'D'), ('dog', 'N'), ('chased', 'V'), ('the', 'D'), ('cat', 'N')]"
      ]
     },
     "execution_count": 21,
     "metadata": {},
     "output_type": "execute_result"
    }
   ],
   "source": [
    "t = Tree.fromstring(\"(S (NP (D the) (N dog)) (VP (V chased) (NP (D the) (N cat))))\")\n",
    "t.pos()"
   ]
  },
  {
   "cell_type": "markdown",
   "metadata": {},
   "source": [
    "There is also one method we will use later, `tree.productions()` generates the productions that correspond to the non-terminal nodes of the tree. For each subtree of the form (P: C1 C2 … Cn) this produces a production of the form P -> C1 C2 … Cn."
   ]
  },
  {
   "cell_type": "code",
   "execution_count": 22,
   "metadata": {},
   "outputs": [
    {
     "data": {
      "text/plain": [
       "[S -> NP VP,\n",
       " NP -> D N,\n",
       " D -> 'the',\n",
       " N -> 'dog',\n",
       " VP -> V NP,\n",
       " V -> 'chased',\n",
       " NP -> D N,\n",
       " D -> 'the',\n",
       " N -> 'cat']"
      ]
     },
     "execution_count": 22,
     "metadata": {},
     "output_type": "execute_result"
    }
   ],
   "source": [
    "t = Tree.fromstring(\"(S (NP (D the) (N dog)) (VP (V chased) (NP (D the) (N cat))))\")\n",
    "t.productions() "
   ]
  },
  {
   "cell_type": "markdown",
   "metadata": {},
   "source": [
    "## 4. Recursion on trees\n",
    "\n",
    "Trees are a recursive data structure--A tree consists of phrases, each of which is itself a tree, or a leaf. Therefore, recursion is a natural way to process trees.\n",
    "\n",
    "Let's compare the 10 most common word types in subject NPs (NP-SBJ) and regular NPs in the Penn Treebank."
   ]
  },
  {
   "cell_type": "code",
   "execution_count": 23,
   "metadata": {},
   "outputs": [
    {
     "name": "stdout",
     "output_type": "stream",
     "text": [
      "NP-SBJ types:\n",
      "the 0.08631905007743934\n",
      ", 0.05570469798657718\n",
      "of 0.028239545689210117\n",
      "it 0.020134228187919462\n",
      "a 0.017656169334021685\n",
      "'s 0.015384615384615385\n",
      "mr. 0.013319566339700568\n",
      "he 0.013164687661331956\n",
      "and 0.012700051626226123\n",
      "they 0.010531750129065565\n",
      "\n",
      "NP types:\n",
      "the 0.06974942875953681\n",
      "a 0.03444870454281399\n",
      "of 0.03177646102009992\n",
      ", 0.02523140079780024\n",
      "and 0.0157429998838155\n",
      "'s 0.014600518957437745\n",
      "in 0.014213237287479183\n",
      "$ 0.013206304945586925\n",
      "to 0.012238100770690524\n",
      "for 0.007261531311723016\n"
     ]
    }
   ],
   "source": [
    "def extract_phrases_from_sent(sentence, phrase_type):\n",
    "    \"\"\"recursively calls this function, loops inside a tree to extract \n",
    "    all tokens which has the given phrase type\"\"\"\n",
    "    tokens = []\n",
    "    for phrase in sentence:\n",
    "        if phrase.label() == phrase_type:\n",
    "            tokens.extend([tok.lower() for tok in phrase.leaves() if not \"*\" in tok])\n",
    "        elif phrase.height() > 2:\n",
    "            tokens.extend(extract_phrases_from_sent(phrase, phrase_type))\n",
    "    return tokens\n",
    "\n",
    "def extract_phrases(treebank, phrase_type):\n",
    "    \"\"\"returns tokens from a treebank.parsed_sents(), given a phrase type.\"\"\"\n",
    "    tokens = []\n",
    "    for s in treebank:\n",
    "        tokens.extend(extract_phrases_from_sent(s,phrase_type))\n",
    "    return tokens\n",
    "\n",
    "from collections import Counter\n",
    "\n",
    "np_sbj_types = Counter(extract_phrases(treebank.parsed_sents(),\"NP-SBJ\"))\n",
    "np_types = Counter(extract_phrases(treebank.parsed_sents(),\"NP\"))\n",
    "\n",
    "print(\"NP-SBJ types:\")\n",
    "total_np_sbj = sum(np_sbj_types.values())   # count the total number\n",
    "for w, c in np_sbj_types.most_common(10):\n",
    "    print(w,c/total_np_sbj)\n",
    "print()\n",
    "\n",
    "print(\"NP types:\")\n",
    "total_np = sum(np_types.values())           # count the total number\n",
    "for w, c in np_types.most_common(10):\n",
    "    print(w,c/total_np)\n"
   ]
  },
  {
   "cell_type": "markdown",
   "metadata": {},
   "source": [
    "We can notice a few interesting tendencies:\n",
    "\n",
    "1. Indefinite articles like \"a\" are less common in NP-SBJ and definite articles like \"the\" more common.\n",
    "1. Subject pronouns \"he\" and \"they\" show up for NP-SBJ.\n",
    "1. \"$\" is common in in general NPs (probably beacuse of the financial domain) but doesn't seem to be frequent in NP-SBJ."
   ]
  },
  {
   "cell_type": "markdown",
   "metadata": {},
   "source": [
    "## 5. Flattening nodes using the Tree.pos \n",
    "\n",
    "The Tree.pos member-function can be used to flatten a tree into a POS tagged sequence. For example, `tree1` can be flattened into a tagged sequence:"
   ]
  },
  {
   "cell_type": "code",
   "execution_count": 25,
   "metadata": {},
   "outputs": [
    {
     "data": {
      "text/plain": [
       "[('The', 'DT'), ('dog', 'NN'), ('saw', 'VBD'), ('the', 'DT'), ('cat', 'NN')]"
      ]
     },
     "execution_count": 25,
     "metadata": {},
     "output_type": "execute_result"
    }
   ],
   "source": [
    "tree = Tree.fromstring(\"(S (NP (DT The) (NN dog)) (VP (VBD saw) (NP (DT the) (NN cat))))\")\n",
    "tree.pos()"
   ]
  },
  {
   "cell_type": "markdown",
   "metadata": {},
   "source": [
    "Write a function `flatten_nps` which uses `tree.pos` to flatten **all the NPs** in the input syntax tree. The function should also flatten all `(POS word)` trees into leaf-nodes `word/POS`. \n",
    "\n",
    "Given `tree1` as the input, the function should return the following syntax tree:\n",
    "\n",
    "```\n",
    "(S (NP the/DT dog/NN) (VP saw/VBD (NP the/DT cat/NN)))\n",
    "```"
   ]
  },
  {
   "cell_type": "code",
   "execution_count": 27,
   "metadata": {},
   "outputs": [
    {
     "name": "stdout",
     "output_type": "stream",
     "text": [
      "(S (NP The/DT dog/NN) (VP saw/VBD (NP the/DT cat/NN)))\n"
     ]
    }
   ],
   "source": [
    "def flatten_nps(tree):\n",
    "    if tree.height() == 2:\n",
    "        return tree.pos()[0]     # extract the word from ('The', 'DT') tuple\n",
    "    # this is further explained below:\n",
    "    elif tree.label() == \"NP\":\n",
    "        return Tree(\"NP\",tree.pos())\n",
    "    else: \n",
    "        # remember Tree(\"pos_tag\", [\"word\"]) has this structure\n",
    "        return Tree(tree.label(),[flatten_nps(node) for node in tree])\n",
    "\n",
    "print(flatten_nps(tree))"
   ]
  },
  {
   "cell_type": "markdown",
   "metadata": {},
   "source": [
    "`(Tree(\"NP\",tree.pos())` will just flatten everything inside the NP."
   ]
  },
  {
   "cell_type": "code",
   "execution_count": 29,
   "metadata": {},
   "outputs": [
    {
     "data": {
      "text/plain": [
       "'(NP The/DT dog/NN)'"
      ]
     },
     "execution_count": 29,
     "metadata": {},
     "output_type": "execute_result"
    }
   ],
   "source": [
    "tree = Tree.fromstring(\"(NP (DT The) (NN dog))\")\n",
    "str(Tree(\"NP\",tree.pos()))"
   ]
  },
  {
   "cell_type": "code",
   "execution_count": null,
   "metadata": {},
   "outputs": [],
   "source": []
  }
 ],
 "metadata": {
  "kernelspec": {
   "display_name": "Python 3 (ipykernel)",
   "language": "python",
   "name": "python3"
  },
  "language_info": {
   "codemirror_mode": {
    "name": "ipython",
    "version": 3
   },
   "file_extension": ".py",
   "mimetype": "text/x-python",
   "name": "python",
   "nbconvert_exporter": "python",
   "pygments_lexer": "ipython3",
   "version": "3.9.5"
  }
 },
 "nbformat": 4,
 "nbformat_minor": 4
}

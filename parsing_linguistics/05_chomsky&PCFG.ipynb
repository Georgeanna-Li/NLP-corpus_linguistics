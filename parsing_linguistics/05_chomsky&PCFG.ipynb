{
 "cells": [
  {
   "cell_type": "markdown",
   "metadata": {},
   "source": [
    "# 5: Chomsky normal form and PCFGs in NLTK\n",
    "\n",
    "## 1. Chomsky normal form\n",
    "\n",
    "Let's start by creating a small grammar."
   ]
  },
  {
   "cell_type": "code",
   "execution_count": 1,
   "metadata": {},
   "outputs": [
    {
     "name": "stdout",
     "output_type": "stream",
     "text": [
      "(S\n",
      "  (NP (DT the) (NN dog))\n",
      "  (VP\n",
      "    (VBZ eats)\n",
      "    (NP (DT a) (NN bone))\n",
      "    (PP (IN on) (NP (DT the) (NN porch)))))\n",
      "(S\n",
      "  (NP (DT the) (NN dog))\n",
      "  (VP\n",
      "    (VBZ eats)\n",
      "    (NP (DT a) (NN bone) (PP (IN on) (NP (DT the) (NN porch))))))\n"
     ]
    }
   ],
   "source": [
    "from nltk.grammar import CFG\n",
    "from nltk.parse import EarleyChartParser\n",
    "\n",
    "grammar = CFG.fromstring('''S -> NP VP\n",
    "NP -> DT NN\n",
    "NP -> DT NN PP\n",
    "VP -> VBZ NP\n",
    "VP -> VBZ NP PP\n",
    "VP -> VBZ\n",
    "PP -> IN NP\n",
    "DT -> \"a\" | \"the\"\n",
    "VBZ -> \"eats\"\n",
    "NN -> \"dog\" | \"bone\" | \"porch\"\n",
    "IN -> \"on\"\n",
    "''')\n",
    "\n",
    "parser = EarleyChartParser(grammar)\n",
    "\n",
    "for parse in parser.parse(\"the dog eats a bone on the porch\".split(\" \")):\n",
    "    print(parse)"
   ]
  },
  {
   "cell_type": "markdown",
   "metadata": {},
   "source": [
    "Let's then check if our grammar is in Chomsky normal form (it isn't). And, then convert it to Chomsky normal form."
   ]
  },
  {
   "cell_type": "code",
   "execution_count": 2,
   "metadata": {},
   "outputs": [
    {
     "name": "stdout",
     "output_type": "stream",
     "text": [
      "Is Chomsky normal form? False\n",
      "Grammar with 16 productions (start state = S)\n",
      "    NP@$@DT -> NN PP\n",
      "    DT -> 'a'\n",
      "    NN -> 'bone'\n",
      "    NN -> 'dog'\n",
      "    NP -> DT NP@$@DT\n",
      "    PP -> IN NP\n",
      "    VP@$@VBZ -> NP PP\n",
      "    IN -> 'on'\n",
      "    VP -> 'eats'\n",
      "    S -> NP VP\n",
      "    VBZ -> 'eats'\n",
      "    VP -> VBZ NP\n",
      "    NN -> 'porch'\n",
      "    VP -> VBZ VP@$@VBZ\n",
      "    NP -> DT NN\n",
      "    DT -> 'the'\n"
     ]
    }
   ],
   "source": [
    "print(\"Is Chomsky normal form?\",grammar.is_chomsky_normal_form())\n",
    "\n",
    "from nltk.treetransforms import chomsky_normal_form\n",
    "from copy import deepcopy\n",
    "\n",
    "cnf_grammar = grammar.chomsky_normal_form()\n",
    "print(cnf_grammar)"
   ]
  },
  {
   "cell_type": "markdown",
   "metadata": {},
   "source": [
    "Next we'll parse our sentence using the grammar in CNF"
   ]
  },
  {
   "cell_type": "code",
   "execution_count": 3,
   "metadata": {},
   "outputs": [
    {
     "name": "stdout",
     "output_type": "stream",
     "text": [
      "(S\n",
      "  (NP (DT the) (NN dog))\n",
      "  (VP\n",
      "    (VBZ eats)\n",
      "    (VP@$@VBZ\n",
      "      (NP (DT a) (NN bone))\n",
      "      (PP (IN on) (NP (DT the) (NN porch))))))\n",
      "(S\n",
      "  (NP (DT the) (NN dog))\n",
      "  (VP\n",
      "    (VBZ eats)\n",
      "    (NP\n",
      "      (DT a)\n",
      "      (NP@$@DT (NN bone) (PP (IN on) (NP (DT the) (NN porch)))))))\n"
     ]
    }
   ],
   "source": [
    "cnf_parser = EarleyChartParser(cnf_grammar)\n",
    "\n",
    "for parse in cnf_parser.parse(\"the dog eats a bone on the porch\".split(\" \")):\n",
    "    print(parse)"
   ]
  },
  {
   "cell_type": "code",
   "execution_count": 4,
   "metadata": {},
   "outputs": [],
   "source": [
    "trees = list(cnf_parser.parse(\"the dog eats a bone on the porch\".split(\" \")))\n",
    "tree = trees[0]"
   ]
  },
  {
   "cell_type": "markdown",
   "metadata": {},
   "source": [
    "Now we revert this process by undoing `chomsky_normal_form`."
   ]
  },
  {
   "cell_type": "code",
   "execution_count": 5,
   "metadata": {},
   "outputs": [
    {
     "name": "stdout",
     "output_type": "stream",
     "text": [
      "(S\n",
      "  (NP (DT the) (NN dog))\n",
      "  (VP\n",
      "    (VBZ eats)\n",
      "    (NP (DT a) (NN bone))\n",
      "    (PP (IN on) (NP (DT the) (NN porch)))))\n"
     ]
    }
   ],
   "source": [
    "from copy import deepcopy\n",
    "from nltk.treetransforms import un_chomsky_normal_form\n",
    "\n",
    "reverse_cnf_tree = deepcopy(tree)\n",
    "reverse_cnf_tree.un_chomsky_normal_form(childChar=\"@$@\")\n",
    "\n",
    "print(reverse_cnf_tree)"
   ]
  },
  {
   "cell_type": "markdown",
   "metadata": {},
   "source": [
    "## 2. Probabilistic context-free grammars (PCFG) in NLTK\n",
    "\n",
    "Let's start by building a small probabilistic grammar"
   ]
  },
  {
   "cell_type": "code",
   "execution_count": 6,
   "metadata": {},
   "outputs": [],
   "source": [
    "from nltk import PCFG\n",
    "\n",
    "pcfg = PCFG.fromstring('''S -> NP VP [1.0]\n",
    "NP -> DT NN [0.9] | NP PP [0.1]\n",
    "VP -> VBZ NP [0.6] | VP PP [0.4]\n",
    "PP -> IN NP [1.0]\n",
    "NN -> \"dog\" [0.5] | \"bone\" [0.2] | \"porch\" [0.3]\n",
    "VBZ -> \"eats\" [1.0]\n",
    "IN -> \"on\" [1.0]\n",
    "DT -> \"the\" [0.5] | \"a\" [0.5]\n",
    "''')"
   ]
  },
  {
   "cell_type": "markdown",
   "metadata": {},
   "source": [
    "And print our grammar."
   ]
  },
  {
   "cell_type": "code",
   "execution_count": 7,
   "metadata": {},
   "outputs": [
    {
     "name": "stdout",
     "output_type": "stream",
     "text": [
      "Grammar with 13 productions (start state = S)\n",
      "    S -> NP VP [1.0]\n",
      "    NP -> DT NN [0.9]\n",
      "    NP -> NP PP [0.1]\n",
      "    VP -> VBZ NP [0.6]\n",
      "    VP -> VP PP [0.4]\n",
      "    PP -> IN NP [1.0]\n",
      "    NN -> 'dog' [0.5]\n",
      "    NN -> 'bone' [0.2]\n",
      "    NN -> 'porch' [0.3]\n",
      "    VBZ -> 'eats' [1.0]\n",
      "    IN -> 'on' [1.0]\n",
      "    DT -> 'the' [0.5]\n",
      "    DT -> 'a' [0.5]\n"
     ]
    }
   ],
   "source": [
    "print(pcfg)"
   ]
  },
  {
   "cell_type": "markdown",
   "metadata": {},
   "source": [
    "We can access each individual rule and its probability in the following way"
   ]
  },
  {
   "cell_type": "code",
   "execution_count": 8,
   "metadata": {},
   "outputs": [
    {
     "name": "stdout",
     "output_type": "stream",
     "text": [
      "LHS: S\n",
      "RHS: (NP, VP)\n",
      "PROB: 1.0\n",
      "\n",
      "LHS: NP\n",
      "RHS: (DT, NN)\n",
      "PROB: 0.9\n",
      "\n",
      "LHS: NP\n",
      "RHS: (NP, PP)\n",
      "PROB: 0.1\n",
      "\n",
      "LHS: VP\n",
      "RHS: (VBZ, NP)\n",
      "PROB: 0.6\n",
      "\n",
      "LHS: VP\n",
      "RHS: (VP, PP)\n",
      "PROB: 0.4\n",
      "\n",
      "LHS: PP\n",
      "RHS: (IN, NP)\n",
      "PROB: 1.0\n",
      "\n",
      "LHS: NN\n",
      "RHS: ('dog',)\n",
      "PROB: 0.5\n",
      "\n",
      "LHS: NN\n",
      "RHS: ('bone',)\n",
      "PROB: 0.2\n",
      "\n",
      "LHS: NN\n",
      "RHS: ('porch',)\n",
      "PROB: 0.3\n",
      "\n",
      "LHS: VBZ\n",
      "RHS: ('eats',)\n",
      "PROB: 1.0\n",
      "\n",
      "LHS: IN\n",
      "RHS: ('on',)\n",
      "PROB: 1.0\n",
      "\n",
      "LHS: DT\n",
      "RHS: ('the',)\n",
      "PROB: 0.5\n",
      "\n",
      "LHS: DT\n",
      "RHS: ('a',)\n",
      "PROB: 0.5\n",
      "\n"
     ]
    }
   ],
   "source": [
    "for production in pcfg.productions():\n",
    "    print(\"LHS:\",production.lhs())\n",
    "    print(\"RHS:\",production.rhs())\n",
    "    print(\"PROB:\",production.prob())\n",
    "    print()"
   ]
  },
  {
   "cell_type": "markdown",
   "metadata": {},
   "source": [
    "Finally, let's parse a sentence using our PCFG "
   ]
  },
  {
   "cell_type": "code",
   "execution_count": 9,
   "metadata": {},
   "outputs": [
    {
     "name": "stdout",
     "output_type": "stream",
     "text": [
      "(S\n",
      "  (NP (DT the) (NN dog))\n",
      "  (VP\n",
      "    (VP (VBZ eats) (NP (DT a) (NN bone)))\n",
      "    (PP (IN on) (NP (DT the) (NN porch))))) (p=0.0006561)\n",
      "(S\n",
      "  (NP (DT the) (NN dog))\n",
      "  (VP\n",
      "    (VBZ eats)\n",
      "    (NP\n",
      "      (NP (DT a) (NN bone))\n",
      "      (PP (IN on) (NP (DT the) (NN porch)))))) (p=0.000164025)\n"
     ]
    }
   ],
   "source": [
    "from nltk.parse import InsideChartParser\n",
    "\n",
    "parser = InsideChartParser(pcfg)\n",
    "\n",
    "score = []\n",
    "for tree in parser.parse(\"the dog eats a bone on the porch\".split(\" \")):\n",
    "    print(tree)\n",
    "    score.append(tree.prob())"
   ]
  },
  {
   "cell_type": "code",
   "execution_count": 10,
   "metadata": {},
   "outputs": [
    {
     "data": {
      "text/plain": [
       "0"
      ]
     },
     "execution_count": 10,
     "metadata": {},
     "output_type": "execute_result"
    }
   ],
   "source": [
    "import numpy as np\n",
    "np.argmax(score)"
   ]
  },
  {
   "cell_type": "markdown",
   "metadata": {},
   "source": [
    "We can see the first one is more probable than the second one."
   ]
  },
  {
   "cell_type": "code",
   "execution_count": null,
   "metadata": {},
   "outputs": [],
   "source": []
  }
 ],
 "metadata": {
  "kernelspec": {
   "display_name": "Python 3 (ipykernel)",
   "language": "python",
   "name": "python3"
  },
  "language_info": {
   "codemirror_mode": {
    "name": "ipython",
    "version": 3
   },
   "file_extension": ".py",
   "mimetype": "text/x-python",
   "name": "python",
   "nbconvert_exporter": "python",
   "pygments_lexer": "ipython3",
   "version": "3.9.5"
  }
 },
 "nbformat": 4,
 "nbformat_minor": 4
}

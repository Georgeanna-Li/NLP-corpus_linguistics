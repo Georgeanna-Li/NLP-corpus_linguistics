{
 "cells": [
  {
   "cell_type": "markdown",
   "metadata": {
    "slideshow": {
     "slide_type": "slide"
    }
   },
   "source": [
    "# Logic \n",
    "\n",
    "* What do words mean? \n",
    "* Propositional logic\n",
    "* First-order logic\n",
    "* Representing sentential meaning with logic\n",
    "* Ontologies, Knowledge bases, and the Semantic Web\n",
    "* Advanced topics: Lambda Calculus, representing events"
   ]
  },
  {
   "cell_type": "markdown",
   "metadata": {
    "slideshow": {
     "slide_type": "slide"
    }
   },
   "source": [
    "## What do words mean?"
   ]
  },
  {
   "cell_type": "markdown",
   "metadata": {
    "slideshow": {
     "slide_type": "subslide"
    }
   },
   "source": [
    "* Dictionary definitions?\n",
    "* Lexical categories?\n",
    "* Relationship to other words?\n",
    "* Context in which they appear?\n",
    "* Referents in the \"real world\"?\n",
    "* Effects in the mind of a listener?"
   ]
  },
  {
   "cell_type": "markdown",
   "metadata": {
    "slideshow": {
     "slide_type": "slide"
    }
   },
   "source": [
    "## Propositional Logic"
   ]
  },
  {
   "cell_type": "markdown",
   "metadata": {
    "slideshow": {
     "slide_type": "subslide"
    }
   },
   "source": [
    "**Logic** is a system for deciding whether a statement is true or false. One basic version of it, known as [propositional logic](https://en.wikipedia.org/wiki/Propositional_calculus), is analogous to the system of boolean operators (ie, AND, OR, etc.) found in programming languages like Python, and operates in the same way. A proposition can be decided to be True or False based on the application of boolean operators to atomic propositions (often denoted with symbols such as *P*, *Q*, and *R*).\n",
    "\n",
    "**Atomic propositions** are simple statements that evaluate to \"True\" or \"False\", and don't contain any complex operators (like AND, OR, ALL) - but we can construct more complex statements from them.\n",
    "\n",
    "For example, if we have two atomic statements: **P** = \"Garrett likes ice cream.\" and  **Q** = \"Garrett likes chocolate.\", then R = P AND Q = \"Garrett likes ice cream and Garrett likes chocolate.\" should also evaluate to True. (TRUE AND TRUE evaluates to TRUE)\n",
    "\n",
    "We'll be using a module for logic included in NLTK. It's not really suitable for serious logical inference, but it'll suffice for our needs here. Let's first look at the basic operators in propositional logic.  **Operators** are used to combine atomic values into complex logical statements."
   ]
  },
  {
   "cell_type": "code",
   "execution_count": 1,
   "metadata": {
    "scrolled": true,
    "slideshow": {
     "slide_type": "fragment"
    }
   },
   "outputs": [
    {
     "name": "stdout",
     "output_type": "stream",
     "text": [
      "negation       \t-\n",
      "conjunction    \t&\n",
      "disjunction    \t|\n",
      "implication    \t->\n",
      "equivalence    \t<->\n"
     ]
    }
   ],
   "source": [
    "import nltk\n",
    "nltk.boolean_ops()"
   ]
  },
  {
   "cell_type": "markdown",
   "metadata": {},
   "source": [
    "Negation, conjunction, and disjunction hopefully need no introduction; they are just the equivalent of Python `not`, `and`, and `or`. Let's see how these work. We will need to create a Model which has a particular truth **Valuation** for atomic propositions. "
   ]
  },
  {
   "cell_type": "code",
   "execution_count": 2,
   "metadata": {},
   "outputs": [],
   "source": [
    "from nltk import Valuation, Assignment, Model\n",
    "\n",
    "val = Valuation([('P', True), ('Q', True), ('R', False)]) #Just 3 statements\n",
    "dom = set() #Domain is empty - coming up later\n",
    "g = Assignment(dom)\n",
    "m = Model(dom, val)"
   ]
  },
  {
   "cell_type": "markdown",
   "metadata": {},
   "source": [
    "Given the Truth values of P, Q, and R given in `val` above, we can use the `evaluate` method of the model to get the truth value of more complex propositions"
   ]
  },
  {
   "cell_type": "code",
   "execution_count": 3,
   "metadata": {},
   "outputs": [
    {
     "data": {
      "text/plain": [
       "False"
      ]
     },
     "execution_count": 3,
     "metadata": {},
     "output_type": "execute_result"
    }
   ],
   "source": [
    "m.evaluate('-P',g) # not True should be False"
   ]
  },
  {
   "cell_type": "code",
   "execution_count": 4,
   "metadata": {},
   "outputs": [
    {
     "data": {
      "text/plain": [
       "True"
      ]
     },
     "execution_count": 4,
     "metadata": {},
     "output_type": "execute_result"
    }
   ],
   "source": [
    "m.evaluate('-R',g) # not False should be True"
   ]
  },
  {
   "cell_type": "code",
   "execution_count": 5,
   "metadata": {},
   "outputs": [
    {
     "data": {
      "text/plain": [
       "True"
      ]
     },
     "execution_count": 5,
     "metadata": {},
     "output_type": "execute_result"
    }
   ],
   "source": [
    "m.evaluate('P & Q',g) # True and True should be True"
   ]
  },
  {
   "cell_type": "code",
   "execution_count": 6,
   "metadata": {},
   "outputs": [
    {
     "data": {
      "text/plain": [
       "False"
      ]
     },
     "execution_count": 6,
     "metadata": {},
     "output_type": "execute_result"
    }
   ],
   "source": [
    "m.evaluate('P & R',g) # True and False should be False"
   ]
  },
  {
   "cell_type": "code",
   "execution_count": 7,
   "metadata": {},
   "outputs": [
    {
     "data": {
      "text/plain": [
       "True"
      ]
     },
     "execution_count": 7,
     "metadata": {},
     "output_type": "execute_result"
    }
   ],
   "source": [
    "m.evaluate('P | R',g) # True or False should be True"
   ]
  },
  {
   "cell_type": "code",
   "execution_count": 8,
   "metadata": {},
   "outputs": [
    {
     "data": {
      "text/plain": [
       "False"
      ]
     },
     "execution_count": 8,
     "metadata": {},
     "output_type": "execute_result"
    }
   ],
   "source": [
    "m.evaluate('-P | R',g) # not(True) or False should be False"
   ]
  },
  {
   "cell_type": "code",
   "execution_count": 9,
   "metadata": {},
   "outputs": [
    {
     "data": {
      "text/plain": [
       "False"
      ]
     },
     "execution_count": 9,
     "metadata": {},
     "output_type": "execute_result"
    }
   ],
   "source": [
    "m.evaluate('(P & Q) & (-Q | R)',g) #(True and True) and (not(True) or False) should be False"
   ]
  },
  {
   "cell_type": "markdown",
   "metadata": {},
   "source": [
    "An expression involving the **equivalence** operator (<->) evaluates to True just when the Truth value of both operands are the same (both True, or both False)"
   ]
  },
  {
   "cell_type": "code",
   "execution_count": 10,
   "metadata": {
    "scrolled": true
   },
   "outputs": [
    {
     "data": {
      "text/plain": [
       "True"
      ]
     },
     "execution_count": 10,
     "metadata": {},
     "output_type": "execute_result"
    }
   ],
   "source": [
    "m.evaluate('P <-> P',g) #X <-> X should always be True"
   ]
  },
  {
   "cell_type": "code",
   "execution_count": 11,
   "metadata": {},
   "outputs": [
    {
     "data": {
      "text/plain": [
       "False"
      ]
     },
     "execution_count": 11,
     "metadata": {},
     "output_type": "execute_result"
    }
   ],
   "source": [
    "m.evaluate('P <-> -P',g) #X <-> -X should always be False"
   ]
  },
  {
   "cell_type": "code",
   "execution_count": 12,
   "metadata": {},
   "outputs": [
    {
     "data": {
      "text/plain": [
       "True"
      ]
     },
     "execution_count": 12,
     "metadata": {},
     "output_type": "execute_result"
    }
   ],
   "source": [
    "m.evaluate('P <-> Q',g) #Will evaluate to True only if P == Q"
   ]
  },
  {
   "cell_type": "markdown",
   "metadata": {
    "slideshow": {
     "slide_type": "subslide"
    }
   },
   "source": [
    "The **implication** operator -> is very important but also the most confusing. Below is a table which shows the truth value of P -> Q for all combinations of P and Q\n",
    "\n",
    "\n",
    "|P |Q |P->Q|\n",
    "|--|--|--|\n",
    "|True|True|True|\n",
    "|False|True|True|\n",
    "|False|False|True|\n",
    "|True|False|False|\n",
    "\n",
    "That is, an expression with the implication operator evaluates only False if the part before the arrow (the antecedent) is True but the conclusion (the proposition after the arrow) is False. If the antecedent is False, an implication is (trivially) True.  This may seem intuitively strange, but the reasoning is that if the antecedent is False, then we have no real information about the implication - we'd rather use other information to disprove the implication.\n",
    "\n",
    "> This is actually kind of confusing. But the way I think about the case in row 2,3 is that if given a FALSE statement, basically we don't have any information about the next statement. Therefore we can only get True for the implication."
   ]
  },
  {
   "cell_type": "code",
   "execution_count": 13,
   "metadata": {
    "slideshow": {
     "slide_type": "fragment"
    }
   },
   "outputs": [
    {
     "data": {
      "text/plain": [
       "True"
      ]
     },
     "execution_count": 13,
     "metadata": {},
     "output_type": "execute_result"
    }
   ],
   "source": [
    "m.evaluate('P -> Q' ,g) #P = True, Q = True; True -> True == True"
   ]
  },
  {
   "cell_type": "code",
   "execution_count": 14,
   "metadata": {},
   "outputs": [
    {
     "data": {
      "text/plain": [
       "True"
      ]
     },
     "execution_count": 14,
     "metadata": {},
     "output_type": "execute_result"
    }
   ],
   "source": [
    "m.evaluate('R -> Q' ,g) #R = False, Q = True; False -> True == True"
   ]
  },
  {
   "cell_type": "code",
   "execution_count": 15,
   "metadata": {},
   "outputs": [
    {
     "data": {
      "text/plain": [
       "False"
      ]
     },
     "execution_count": 15,
     "metadata": {},
     "output_type": "execute_result"
    }
   ],
   "source": [
    "m.evaluate('P -> R' ,g) #P = True, R = False; True -> False == False"
   ]
  },
  {
   "cell_type": "markdown",
   "metadata": {
    "slideshow": {
     "slide_type": "subslide"
    }
   },
   "source": [
    "As it happens, we don't actually need all these operators, for instance the implication operator can be expressed **in terms of - and |**. (Implication evaluates to True if either the antecedent is False, or the conclusion is True)."
   ]
  },
  {
   "cell_type": "markdown",
   "metadata": {},
   "source": [
    "> The antecedent is False, or the conclusion is True."
   ]
  },
  {
   "cell_type": "code",
   "execution_count": 21,
   "metadata": {
    "slideshow": {
     "slide_type": "fragment"
    }
   },
   "outputs": [
    {
     "data": {
      "text/plain": [
       "True"
      ]
     },
     "execution_count": 21,
     "metadata": {},
     "output_type": "execute_result"
    }
   ],
   "source": [
    "m.evaluate('-R | Q' ,g)"
   ]
  },
  {
   "cell_type": "code",
   "execution_count": 16,
   "metadata": {},
   "outputs": [
    {
     "data": {
      "text/plain": [
       "True"
      ]
     },
     "execution_count": 16,
     "metadata": {},
     "output_type": "execute_result"
    }
   ],
   "source": [
    "m.evaluate('R -> Q', g)"
   ]
  },
  {
   "cell_type": "markdown",
   "metadata": {},
   "source": [
    "## De Morgan's Laws \n",
    "\n",
    "The negation of complex statements follows a set of rules commonly called \"De Morgan's laws\".  Simply put, the negation of an \"AND\" is an \"OR\" of the negation of each element, and the negation of an \"OR\" is an \"AND\" of the negation of each element:\n",
    "\n",
    "-(A & B) <-> -A | -B <br>\n",
    "-(A | B) <-> -A & -B\n",
    "\n",
    "Let's test this: A = True; B = False.\n",
    "\n",
    "A & B = False; -A | -B = True <br>\n",
    "A | B = True; -A & -B = False <br>"
   ]
  },
  {
   "cell_type": "markdown",
   "metadata": {
    "slideshow": {
     "slide_type": "slide"
    }
   },
   "source": [
    "## First-order logic"
   ]
  },
  {
   "cell_type": "markdown",
   "metadata": {
    "slideshow": {
     "slide_type": "subslide"
    }
   },
   "source": [
    "[First-order logic](https://en.wikipedia.org/wiki/First-order_logic) (FOL, also referred to as predicate logic or predicate calculus) is a much more powerful system of logic. In FOL, a *model* consists of a collection of *objects* or *entities* (known collectively as the *domain*). In NTLK's version of FOL, the domain is just represented as a set of strings."
   ]
  },
  {
   "cell_type": "code",
   "execution_count": 18,
   "metadata": {
    "slideshow": {
     "slide_type": "-"
    }
   },
   "outputs": [],
   "source": [
    "#Let's create a cast of characters - these \"people\" will live in our domain.\n",
    "dom = {\"Arthur\",\"Barbara\",\"Charlie\",\"Donna\",\"Ed\"}"
   ]
  },
  {
   "cell_type": "markdown",
   "metadata": {
    "slideshow": {
     "slide_type": "fragment"
    }
   },
   "source": [
    "In the context of FOL formulas, *variables* (often donated as single lower-case letters, particularly `x`,`y`, and `z`) represent one or more objects in the context of logical formulas. In NLTK, creating an `Assignment` (a dictionary mapping from variables to entities) is often a necessary step in working with logical formulas."
   ]
  },
  {
   "cell_type": "code",
   "execution_count": 19,
   "metadata": {},
   "outputs": [
    {
     "data": {
      "text/plain": [
       "{'x': 'Arthur', 'y': 'Barbara', 'z': 'Charlie'}"
      ]
     },
     "execution_count": 19,
     "metadata": {},
     "output_type": "execute_result"
    }
   ],
   "source": [
    "#Assign 'x' to \"Arthur\", 'y' to \"Barbara\", and 'z' to Charlie; now, anytime we refer to \"x\", are\n",
    "#talking about \"Arthur\", etc.\n",
    "Assignment(dom,[(\"x\",\"Arthur\"),(\"y\",\"Barbara\"),(\"z\",\"Charlie\")])"
   ]
  },
  {
   "cell_type": "code",
   "execution_count": 21,
   "metadata": {},
   "outputs": [
    {
     "data": {
      "text/plain": [
       "{'x': 'Ed', 'y': 'Donna', 'z': 'Donna'}"
      ]
     },
     "execution_count": 21,
     "metadata": {},
     "output_type": "execute_result"
    }
   ],
   "source": [
    "Assignment(dom,[(\"x\",\"Donna\"),(\"y\",\"Donna\"),(\"z\",\"Donna\"),(\"x\",\"Ed\")])\n",
    "#Notice that re-assignment just overwrites the variable"
   ]
  },
  {
   "cell_type": "code",
   "execution_count": 22,
   "metadata": {
    "scrolled": true
   },
   "outputs": [
    {
     "ename": "AssertionError",
     "evalue": "'Fred' is not in the domain: {'Barbara', 'Arthur', 'Donna', 'Ed', 'Charlie'}",
     "output_type": "error",
     "traceback": [
      "\u001b[1;31m---------------------------------------------------------------------------\u001b[0m",
      "\u001b[1;31mAssertionError\u001b[0m                            Traceback (most recent call last)",
      "\u001b[1;32m<ipython-input-22-bb427be89a69>\u001b[0m in \u001b[0;36m<module>\u001b[1;34m\u001b[0m\n\u001b[1;32m----> 1\u001b[1;33m \u001b[0mAssignment\u001b[0m\u001b[1;33m(\u001b[0m\u001b[0mdom\u001b[0m\u001b[1;33m,\u001b[0m\u001b[1;33m[\u001b[0m\u001b[1;33m(\u001b[0m\u001b[1;34m\"x\"\u001b[0m\u001b[1;33m,\u001b[0m\u001b[1;34m\"Arthur\"\u001b[0m\u001b[1;33m)\u001b[0m\u001b[1;33m,\u001b[0m\u001b[1;33m(\u001b[0m\u001b[1;34m\"y\"\u001b[0m\u001b[1;33m,\u001b[0m\u001b[1;34m\"Fred\"\u001b[0m\u001b[1;33m)\u001b[0m\u001b[1;33m]\u001b[0m\u001b[1;33m)\u001b[0m\u001b[1;33m\u001b[0m\u001b[1;33m\u001b[0m\u001b[0m\n\u001b[0m",
      "\u001b[1;32mc:\\users\\nicol\\appdata\\local\\programs\\python\\python37\\lib\\site-packages\\nltk\\sem\\evaluate.py\u001b[0m in \u001b[0;36m__init__\u001b[1;34m(self, domain, assign)\u001b[0m\n\u001b[0;32m    309\u001b[0m                 assert val in self.domain, \"'%s' is not in the domain: %s\" % (\n\u001b[0;32m    310\u001b[0m                     \u001b[0mval\u001b[0m\u001b[1;33m,\u001b[0m\u001b[1;33m\u001b[0m\u001b[1;33m\u001b[0m\u001b[0m\n\u001b[1;32m--> 311\u001b[1;33m                     \u001b[0mself\u001b[0m\u001b[1;33m.\u001b[0m\u001b[0mdomain\u001b[0m\u001b[1;33m,\u001b[0m\u001b[1;33m\u001b[0m\u001b[1;33m\u001b[0m\u001b[0m\n\u001b[0m\u001b[0;32m    312\u001b[0m                 )\n\u001b[0;32m    313\u001b[0m                 assert is_indvar(var), (\n",
      "\u001b[1;31mAssertionError\u001b[0m: 'Fred' is not in the domain: {'Barbara', 'Arthur', 'Donna', 'Ed', 'Charlie'}"
     ]
    }
   ],
   "source": [
    "Assignment(dom,[(\"x\",\"Arthur\"),(\"y\",\"Fred\")])\n",
    "#Fred is not in the domain - what happens?"
   ]
  },
  {
   "cell_type": "markdown",
   "metadata": {
    "slideshow": {
     "slide_type": "fragment"
    }
   },
   "source": [
    "Though if you don't want to explicitly assign any variables you can create an empty assignment:"
   ]
  },
  {
   "cell_type": "code",
   "execution_count": 32,
   "metadata": {},
   "outputs": [
    {
     "data": {
      "text/plain": [
       "{}"
      ]
     },
     "execution_count": 32,
     "metadata": {},
     "output_type": "execute_result"
    }
   ],
   "source": [
    "Assignment(dom)"
   ]
  },
  {
   "cell_type": "markdown",
   "metadata": {
    "slideshow": {
     "slide_type": "fragment"
    }
   },
   "source": [
    "The power of FOL comes from the notion of a **predicate**. Predicates look exactly like function definitions/calls in a programming language. We can write them as strings and turn them into logical *expressions*."
   ]
  },
  {
   "cell_type": "code",
   "execution_count": 33,
   "metadata": {
    "slideshow": {
     "slide_type": "-"
    }
   },
   "outputs": [],
   "source": [
    "from nltk.sem import Expression\n",
    "read_expr = Expression.fromstring #ie, read in a string, and treat it as an expression"
   ]
  },
  {
   "cell_type": "code",
   "execution_count": 34,
   "metadata": {},
   "outputs": [],
   "source": [
    "exp1 = read_expr(\"person(Arthur)\") #Arthur is a person\n",
    "exp2 = read_expr(\"person(Barbara)\") #So is Barbara\n",
    "exp3 = read_expr(\"motherOf(Barbara,Arthur)\") #Barbara is the mother of Arthur\n",
    "exp4 = read_expr(\"person(x)\") #x is also a person"
   ]
  },
  {
   "cell_type": "code",
   "execution_count": 35,
   "metadata": {},
   "outputs": [
    {
     "data": {
      "text/plain": [
       "<ConstantExpression person>"
      ]
     },
     "execution_count": 35,
     "metadata": {},
     "output_type": "execute_result"
    }
   ],
   "source": [
    "exp1.pred       # pred:predicates"
   ]
  },
  {
   "cell_type": "code",
   "execution_count": 36,
   "metadata": {},
   "outputs": [
    {
     "data": {
      "text/plain": [
       "[<ConstantExpression Arthur>]"
      ]
     },
     "execution_count": 36,
     "metadata": {},
     "output_type": "execute_result"
    }
   ],
   "source": [
    "exp1.args     # args: argument"
   ]
  },
  {
   "cell_type": "code",
   "execution_count": 37,
   "metadata": {},
   "outputs": [
    {
     "data": {
      "text/plain": [
       "<ConstantExpression motherOf>"
      ]
     },
     "execution_count": 37,
     "metadata": {},
     "output_type": "execute_result"
    }
   ],
   "source": [
    "exp3.pred"
   ]
  },
  {
   "cell_type": "code",
   "execution_count": 38,
   "metadata": {},
   "outputs": [
    {
     "data": {
      "text/plain": [
       "[<ConstantExpression Barbara>, <ConstantExpression Arthur>]"
      ]
     },
     "execution_count": 38,
     "metadata": {},
     "output_type": "execute_result"
    }
   ],
   "source": [
    "exp3.args"
   ]
  },
  {
   "cell_type": "code",
   "execution_count": 39,
   "metadata": {},
   "outputs": [
    {
     "data": {
      "text/plain": [
       "[<IndividualVariableExpression x>]"
      ]
     },
     "execution_count": 39,
     "metadata": {},
     "output_type": "execute_result"
    }
   ],
   "source": [
    "exp4.args"
   ]
  },
  {
   "cell_type": "markdown",
   "metadata": {
    "slideshow": {
     "slide_type": "fragment"
    }
   },
   "source": [
    "Intiuitively, **predicates express the properties of and relationships among entities in the domain**. One-place predicates such as `person` (also known as *properties*) are defined as a set of entities.  Note that in FOL, properties have no inherent \"meaning\" other than a set of entities. As such, we can define a property by listing the entities which have this property. In NLTK, we do this by creating a Valuation."
   ]
  },
  {
   "cell_type": "code",
   "execution_count": 41,
   "metadata": {
    "slideshow": {
     "slide_type": "-"
    }
   },
   "outputs": [
    {
     "name": "stdout",
     "output_type": "stream",
     "text": [
      "{'female': {('Barbara',), ('Donna',)},\n",
      " 'male': {('Ed',), ('Arthur',), ('Charlie',)},\n",
      " 'motherOf': {('Barbara', 'Arthur')},\n",
      " 'person': {('Barbara',), ('Charlie',), ('Arthur',), ('Ed',), ('Donna',)}}\n"
     ]
    }
   ],
   "source": [
    "val = Valuation([(\"person\",{\"Arthur\",\"Barbara\",\"Charlie\",\"Donna\",\"Ed\"}), \n",
    "                 (\"male\", {\"Arthur\",\"Charlie\",\"Ed\"}),\n",
    "                 (\"female\", {\"Barbara\",\"Donna\"}),\n",
    "                 (\"motherOf\", {(\"Barbara\",\"Arthur\")})])\n",
    "\n",
    "print(val) #Note that it's just creating a dictionary (but note the weird tuples for the properties)"
   ]
  },
  {
   "cell_type": "markdown",
   "metadata": {
    "slideshow": {
     "slide_type": "fragment"
    }
   },
   "source": [
    "Notice we've also defined one two-argument predicate. Two argument predicates are nothing more than sets of pairs of entities, and usually define relationships between entities.\n",
    "\n",
    "We can extract a domain directly from a Valuation, and use the two of them to build a full model:"
   ]
  },
  {
   "cell_type": "code",
   "execution_count": 42,
   "metadata": {
    "scrolled": true,
    "slideshow": {
     "slide_type": "-"
    }
   },
   "outputs": [],
   "source": [
    "dom = val.domain\n",
    "for entity in dom: # needed to make the connection between entities in Valuation and entities from read_exp\n",
    "    val[entity] = entity\n",
    "m = Model(dom, val)\n",
    "g = Assignment(dom)"
   ]
  },
  {
   "cell_type": "markdown",
   "metadata": {
    "slideshow": {
     "slide_type": "fragment"
    }
   },
   "source": [
    "We can now use the evaluate method with our new model, and apply the operators from propositional logic"
   ]
  },
  {
   "cell_type": "code",
   "execution_count": 43,
   "metadata": {
    "slideshow": {
     "slide_type": "-"
    }
   },
   "outputs": [
    {
     "data": {
      "text/plain": [
       "True"
      ]
     },
     "execution_count": 43,
     "metadata": {},
     "output_type": "execute_result"
    }
   ],
   "source": [
    "m.evaluate(\"person(Ed)\",g)"
   ]
  },
  {
   "cell_type": "code",
   "execution_count": 44,
   "metadata": {},
   "outputs": [
    {
     "data": {
      "text/plain": [
       "False"
      ]
     },
     "execution_count": 44,
     "metadata": {},
     "output_type": "execute_result"
    }
   ],
   "source": [
    "m.evaluate(\"female(Ed)\",g)"
   ]
  },
  {
   "cell_type": "code",
   "execution_count": 45,
   "metadata": {},
   "outputs": [
    {
     "data": {
      "text/plain": [
       "True"
      ]
     },
     "execution_count": 45,
     "metadata": {},
     "output_type": "execute_result"
    }
   ],
   "source": [
    "m.evaluate(\"-female(Ed)\",g)"
   ]
  },
  {
   "cell_type": "code",
   "execution_count": 46,
   "metadata": {},
   "outputs": [
    {
     "data": {
      "text/plain": [
       "True"
      ]
     },
     "execution_count": 46,
     "metadata": {},
     "output_type": "execute_result"
    }
   ],
   "source": [
    "m.evaluate(\"female(Barbara) | female(Ed)\",g)"
   ]
  },
  {
   "cell_type": "code",
   "execution_count": 47,
   "metadata": {
    "slideshow": {
     "slide_type": "fragment"
    }
   },
   "outputs": [
    {
     "data": {
      "text/plain": [
       "True"
      ]
     },
     "execution_count": 47,
     "metadata": {},
     "output_type": "execute_result"
    }
   ],
   "source": [
    "m.evaluate(\"female(Barbara) -> -male(Barbara)\",g)"
   ]
  },
  {
   "cell_type": "code",
   "execution_count": 48,
   "metadata": {
    "slideshow": {
     "slide_type": "-"
    }
   },
   "outputs": [
    {
     "data": {
      "text/plain": [
       "True"
      ]
     },
     "execution_count": 48,
     "metadata": {},
     "output_type": "execute_result"
    }
   ],
   "source": [
    "m.evaluate(\"-female(Barbara) -> male(Ed)\",g)"
   ]
  },
  {
   "cell_type": "markdown",
   "metadata": {},
   "source": [
    "Example: Let's create a model with at least one more person and one more family relationship among our people, and demonstrate that it works using evaluate."
   ]
  },
  {
   "cell_type": "code",
   "execution_count": 49,
   "metadata": {},
   "outputs": [
    {
     "data": {
      "text/plain": [
       "True"
      ]
     },
     "execution_count": 49,
     "metadata": {},
     "output_type": "execute_result"
    }
   ],
   "source": [
    "val = Valuation([(\"person\",{\"Arthur\",\"Barbara\",\"Charlie\",\"Donna\",\"Ed\",\"Frida\"}), \n",
    "                 (\"male\", {\"Arthur\",\"Charlie\",\"Ed\"}),\n",
    "                 (\"female\", {\"Barbara\",\"Donna\",\"Frida\"}),\n",
    "                 (\"motherOf\", {(\"Barbara\",\"Arthur\")}),\n",
    "                 (\"sisterOf\", {(\"Donna\", \"Frida\"),(\"Frida\",\"Donna\")})])\n",
    "                 \n",
    "dom = val.domain\n",
    "for entity in dom: # needed to make the connection between entities in Valuation and entities from read_exp\n",
    "    val[entity] = entity\n",
    "m = Model(dom, val)\n",
    "g = Assignment(dom)\n",
    " \n",
    "m.evaluate(\"sisterOf(Donna,Frida) & sisterOf(Frida,Donna)\",g)"
   ]
  },
  {
   "cell_type": "markdown",
   "metadata": {
    "slideshow": {
     "slide_type": "fragment"
    }
   },
   "source": [
    "The other major functionality of FOL is related to the variables we introduced earlier. If we add variables to our expressions, we can then *quantify* them. There are two kinds of quantifiers in FOL: The universal quantifier and the existential quantifier. A universal quantifier ($\\forall$, \"all\" in NLTK) is true when any possible assignment of entities to the variable which follows it results in a True statement  "
   ]
  },
  {
   "cell_type": "code",
   "execution_count": 50,
   "metadata": {},
   "outputs": [
    {
     "data": {
      "text/plain": [
       "True"
      ]
     },
     "execution_count": 50,
     "metadata": {},
     "output_type": "execute_result"
    }
   ],
   "source": [
    "m.evaluate(\"all x. person(x)\",g) #Read as \"For all items x, x is a person\""
   ]
  },
  {
   "cell_type": "code",
   "execution_count": 45,
   "metadata": {},
   "outputs": [
    {
     "data": {
      "text/plain": [
       "False"
      ]
     },
     "execution_count": 45,
     "metadata": {},
     "output_type": "execute_result"
    }
   ],
   "source": [
    "m.evaluate(\"all x. male(x)\",g) #\"For all items x, x is male\""
   ]
  },
  {
   "cell_type": "code",
   "execution_count": 46,
   "metadata": {
    "slideshow": {
     "slide_type": "fragment"
    }
   },
   "outputs": [
    {
     "data": {
      "text/plain": [
       "False"
      ]
     },
     "execution_count": 46,
     "metadata": {},
     "output_type": "execute_result"
    }
   ],
   "source": [
    "m.evaluate(\"all x. (male(x) -> -male(x))\",g) #\"For all items x, if x is male, then x is not male\""
   ]
  },
  {
   "cell_type": "code",
   "execution_count": 47,
   "metadata": {
    "scrolled": true,
    "slideshow": {
     "slide_type": "-"
    }
   },
   "outputs": [
    {
     "data": {
      "text/plain": [
       "True"
      ]
     },
     "execution_count": 47,
     "metadata": {},
     "output_type": "execute_result"
    }
   ],
   "source": [
    "m.evaluate(\"all x y. (motherOf(x,y) -> female(x))\",g) #\"For all items x and items y, if x is the mother of y, then x is female\""
   ]
  },
  {
   "cell_type": "markdown",
   "metadata": {
    "slideshow": {
     "slide_type": "fragment"
    }
   },
   "source": [
    "The existential quantifier ($\\exists$, \"exists\") asserts that at least one possible assignment returns True."
   ]
  },
  {
   "cell_type": "code",
   "execution_count": 51,
   "metadata": {
    "slideshow": {
     "slide_type": "-"
    }
   },
   "outputs": [
    {
     "data": {
      "text/plain": [
       "True"
      ]
     },
     "execution_count": 51,
     "metadata": {},
     "output_type": "execute_result"
    }
   ],
   "source": [
    "m.evaluate(\"exists x. female(x)\",g) #\"There is some x in g that is female.\""
   ]
  },
  {
   "cell_type": "code",
   "execution_count": 49,
   "metadata": {},
   "outputs": [
    {
     "data": {
      "text/plain": [
       "True"
      ]
     },
     "execution_count": 49,
     "metadata": {},
     "output_type": "execute_result"
    }
   ],
   "source": [
    "m.evaluate(\"-exists x y. (male(x) & motherOf(x,y))\",g) #\"There is no x and y such that x is male and the mother of y"
   ]
  },
  {
   "cell_type": "code",
   "execution_count": 55,
   "metadata": {},
   "outputs": [
    {
     "data": {
      "text/plain": [
       "True"
      ]
     },
     "execution_count": 55,
     "metadata": {},
     "output_type": "execute_result"
    }
   ],
   "source": [
    "m.evaluate(\"all x all y. (male(x) -> -motherOf(x,y))\",g) #\"There is no x and y such that x is male and the mother of y"
   ]
  },
  {
   "cell_type": "code",
   "execution_count": 56,
   "metadata": {},
   "outputs": [
    {
     "data": {
      "text/plain": [
       "False"
      ]
     },
     "execution_count": 56,
     "metadata": {},
     "output_type": "execute_result"
    }
   ],
   "source": [
    "m.evaluate(\"all x. exists y. motherOf(y,x)\",g) #For every x in g, there is a y that is its mother"
   ]
  },
  {
   "cell_type": "markdown",
   "metadata": {
    "slideshow": {
     "slide_type": "fragment"
    }
   },
   "source": [
    "Exercise: Let's create expressions with quantifiers involving the predicates we defined above. They don't have to be true."
   ]
  },
  {
   "cell_type": "code",
   "execution_count": 57,
   "metadata": {},
   "outputs": [
    {
     "data": {
      "text/plain": [
       "True"
      ]
     },
     "execution_count": 57,
     "metadata": {},
     "output_type": "execute_result"
    }
   ],
   "source": [
    "m.evaluate(\"all x y. (sisterOf(x,y) <-> sisterOf(y,x)) \",g) #If x is a sister of y, then y is a sister of x"
   ]
  },
  {
   "cell_type": "markdown",
   "metadata": {
    "slideshow": {
     "slide_type": "fragment"
    }
   },
   "source": [
    "One final element of FOL that often co-occurs with the existential operator are the equality operators. The inequality operator is often more useful. For example, we need it to evaluate whether there are any mothers of more than one child (in our domain)."
   ]
  },
  {
   "cell_type": "code",
   "execution_count": 58,
   "metadata": {},
   "outputs": [
    {
     "name": "stdout",
     "output_type": "stream",
     "text": [
      "equality       \t=\n",
      "inequality     \t!=\n"
     ]
    }
   ],
   "source": [
    "nltk.equality_preds()"
   ]
  },
  {
   "cell_type": "code",
   "execution_count": 61,
   "metadata": {
    "scrolled": true,
    "slideshow": {
     "slide_type": "fragment"
    }
   },
   "outputs": [
    {
     "data": {
      "text/plain": [
       "False"
      ]
     },
     "execution_count": 61,
     "metadata": {},
     "output_type": "execute_result"
    }
   ],
   "source": [
    "m.evaluate(\"exists x y z.(motherOf(x,y) & motherOf(x,z) & (y != z))\",g) #There is an x, y, and z.  If x is the mother of y and z, then y is not equal to z"
   ]
  },
  {
   "cell_type": "markdown",
   "metadata": {
    "slideshow": {
     "slide_type": "fragment"
    }
   },
   "source": [
    "In addition to building a complete, explicit model and then checking the truth of particular phrases (as we have above), another use case for first order logic is *inference*, which involves deducing the truth or falsity of a *conclusion* from a series of logic statements which are known to be true, i.e. the *premises*. When doing inference, there is a model, but it is implicit. The most typical rule of inference is *modus ponens*, which simply deduces B from the premises A and A->B.\n",
    "\n",
    "Remember that for implication, if A is True, then if A->B, then B will also be true."
   ]
  },
  {
   "cell_type": "code",
   "execution_count": 62,
   "metadata": {},
   "outputs": [
    {
     "data": {
      "text/plain": [
       "True"
      ]
     },
     "execution_count": 62,
     "metadata": {},
     "output_type": "execute_result"
    }
   ],
   "source": [
    "prover = nltk.TableauProver()\n",
    "\n",
    "p1 = read_expr('man(socrates)') #A: Socrates is a man.\n",
    "p2 = read_expr('all x.(man(x) -> mortal(x))') #A->B: If x is a man, then x is mortal.\n",
    "p3  = read_expr('mortal(socrates)') #Thus, since Socrates is a man, he must be mortal.\n",
    "\n",
    "prover.prove(p3, [p1,p2])"
   ]
  },
  {
   "cell_type": "markdown",
   "metadata": {
    "slideshow": {
     "slide_type": "slide"
    }
   },
   "source": [
    "## Representing sentential meaning with logic"
   ]
  },
  {
   "cell_type": "markdown",
   "metadata": {
    "slideshow": {
     "slide_type": "subslide"
    }
   },
   "source": [
    "First-order logic is a powerful enough system to represent most of the meaning of languages in a compact computer-readable form. It has the advantage that it can abstract away from variations in syntactic structure and lexical choice. Consider the following sentences:\n",
    "\n",
    "*Barbara is the mother of Arthur* <br >\n",
    "*Barbara is Arthur's mother* <br >\n",
    "*Barbara's Arthur's mom*\n",
    "\n",
    "We can safely represent all of these as a single FOL formula:"
   ]
  },
  {
   "cell_type": "code",
   "execution_count": 63,
   "metadata": {},
   "outputs": [
    {
     "data": {
      "text/plain": [
       "<ApplicationExpression motherOf(Barbara,Arthur)>"
      ]
     },
     "execution_count": 63,
     "metadata": {},
     "output_type": "execute_result"
    }
   ],
   "source": [
    "# my code here\n",
    "read_expr(\"motherOf(Barbara, Arthur)\")\n",
    "# my code here"
   ]
  },
  {
   "cell_type": "markdown",
   "metadata": {},
   "source": [
    "It also generally provides an unambigious meaning in cases where the language is unclear:\n",
    "\n",
    "*A man saw an elephant in his pyjamas*"
   ]
  },
  {
   "cell_type": "code",
   "execution_count": 64,
   "metadata": {
    "slideshow": {
     "slide_type": "fragment"
    }
   },
   "outputs": [
    {
     "data": {
      "text/plain": [
       "<ExistsExpression exists x y z.(man(x) & elephant(y) & pyjamas(z) & saw(x,y) & wearing(x,z) & owns(x,z))>"
      ]
     },
     "execution_count": 64,
     "metadata": {},
     "output_type": "execute_result"
    }
   ],
   "source": [
    "#my code here\n",
    "read_expr(\"exists x y z. (man(x) & elephant(y) & pyjamas(z) & saw(x,y) & wearing(x,z) & owns(x,z))\")\n",
    "#There is a man x who saw an elephant y, and the man was wearing his own pyjamas z\n",
    "#my code here"
   ]
  },
  {
   "cell_type": "code",
   "execution_count": 65,
   "metadata": {},
   "outputs": [
    {
     "data": {
      "text/plain": [
       "<ExistsExpression exists x y z.(man(x) & elephant(y) & pyjamas(z) & saw(x,y) & wearing(y,z) & owns(x,z))>"
      ]
     },
     "execution_count": 65,
     "metadata": {},
     "output_type": "execute_result"
    }
   ],
   "source": [
    "#my code here\n",
    "read_expr(\"exists x y z. (man(x) & elephant(y) & pyjamas(z) & saw(x,y) & wearing(y,z) & owns(x,z))\")\n",
    "#There is a man x who saw an elephant y, and the elephant was wearing the man's pyjamas z\n",
    "#my code here"
   ]
  },
  {
   "cell_type": "markdown",
   "metadata": {},
   "source": [
    "This is true even when a syntactic representation might not distinguish the meaning:\n",
    "\n",
    "*Timmy is a bad boy*"
   ]
  },
  {
   "cell_type": "code",
   "execution_count": 66,
   "metadata": {},
   "outputs": [
    {
     "data": {
      "text/plain": [
       "<AndExpression (boy(Timmy) & naughty(Timmy))>"
      ]
     },
     "execution_count": 66,
     "metadata": {},
     "output_type": "execute_result"
    }
   ],
   "source": [
    "#my code here\n",
    "read_expr(\"boy(Timmy) & naughty(Timmy)\")\n",
    "#Timmy is a boy, and Timmy is naughty\n",
    "#my code here"
   ]
  },
  {
   "cell_type": "code",
   "execution_count": 68,
   "metadata": {},
   "outputs": [
    {
     "data": {
      "text/plain": [
       "<ApplicationExpression badBoy(Timmy)>"
      ]
     },
     "execution_count": 68,
     "metadata": {},
     "output_type": "execute_result"
    }
   ],
   "source": [
    "#my code here\n",
    "read_expr(\"badBoy(Timmy)\")\n",
    "#Timmy is a bad boy (whatever that means)\n",
    "#my code here"
   ]
  },
  {
   "cell_type": "markdown",
   "metadata": {
    "slideshow": {
     "slide_type": "subslide"
    }
   },
   "source": [
    "It is fairly straightforward to represent general statements about the world in FOL:\n",
    "\n",
    "*All boys and girls are children*.\n",
    "\n",
    "*All boys have mothers, and at least some love their mothers*\n",
    "\n",
    "*All bad boys which own an elephant are happy as long as the elephant isn't wearing pyjamas*"
   ]
  },
  {
   "cell_type": "code",
   "execution_count": 85,
   "metadata": {},
   "outputs": [
    {
     "data": {
      "text/plain": [
       "<AllExpression all x.((boy(x) | girl(x)) -> child(x))>"
      ]
     },
     "execution_count": 85,
     "metadata": {},
     "output_type": "execute_result"
    }
   ],
   "source": [
    "#my code here\n",
    "read_expr(\"all x.((boy(x) | girl(x)) -> child(x))\") #Note that although the sentence uses \"and\", we use \"or\"\n",
    "#my code here            "
   ]
  },
  {
   "cell_type": "code",
   "execution_count": 86,
   "metadata": {},
   "outputs": [
    {
     "data": {
      "text/plain": [
       "<AndExpression (all x.(boy(x) -> exists y.motherOf(y,x)) & exists x y.(boy(x) & motherOf(y,x) & love(x,y)))>"
      ]
     },
     "execution_count": 86,
     "metadata": {},
     "output_type": "execute_result"
    }
   ],
   "source": [
    "#my code here\n",
    "read_expr(\"(all x. (boy(x) -> exists y. motherOf(y,x))) & (exists x y.((boy(x) & motherOf(y,x) & love(x,y))))\")\n",
    "#my code here "
   ]
  },
  {
   "cell_type": "code",
   "execution_count": 67,
   "metadata": {},
   "outputs": [
    {
     "data": {
      "text/plain": [
       "<AllExpression all x.((badBoy(x) & exists y.(elephant(y) & owns(x,y) & -exists z.(pyjamas(z) & wearing(y,z)))) -> happy(x))>"
      ]
     },
     "execution_count": 67,
     "metadata": {},
     "output_type": "execute_result"
    }
   ],
   "source": [
    "#my code here\n",
    "read_expr(\"all x.(badBoy(x) & exists y.(elephant(y) & owns(x,y) & -exists z.(pyjamas(z) & wearing(y,z))) -> happy(x))\")\n",
    "#my code here "
   ]
  },
  {
   "cell_type": "markdown",
   "metadata": {},
   "source": [
    "Note that we don't have to explicitly use quantifiers words in English to get a meaning which involves quantification in FOL\n",
    "\n",
    "*Bad boys love their mothers if they aren't naughty*"
   ]
  },
  {
   "cell_type": "code",
   "execution_count": 68,
   "metadata": {},
   "outputs": [
    {
     "data": {
      "text/plain": [
       "<AllExpression all x y.((badBoy(x) & MotherOf(y,x) & -naughty(x)) -> love(x,y))>"
      ]
     },
     "execution_count": 68,
     "metadata": {},
     "output_type": "execute_result"
    }
   ],
   "source": [
    "#my code here\n",
    "read_expr(\"all x y.((badBoy(x) & MotherOf(y,x) & -naughty(x)) -> love(x,y))\")\n",
    "#my code here"
   ]
  },
  {
   "cell_type": "markdown",
   "metadata": {},
   "source": [
    "Some things (like explicit numbers) are a bit awkward, but possible!\n",
    "\n",
    "*There are two bad boys under the bed.*"
   ]
  },
  {
   "cell_type": "code",
   "execution_count": 88,
   "metadata": {
    "slideshow": {
     "slide_type": "fragment"
    }
   },
   "outputs": [
    {
     "data": {
      "text/plain": [
       "<ExistsExpression exists x y z.(boy(x) & boy(y) & naughty(x) & naughty(y) & -(x = y) & bed(z) & under(z,x) & under(z,y))>"
      ]
     },
     "execution_count": 88,
     "metadata": {},
     "output_type": "execute_result"
    }
   ],
   "source": [
    "#my code here\n",
    "read_expr(\"exists x y z.(boy(x) & boy(y) & naughty(x) & naughty(y) & x != y & bed(z) & under(z,x) & under(z,y))\")\n",
    "#my code here   "
   ]
  },
  {
   "cell_type": "markdown",
   "metadata": {
    "slideshow": {
     "slide_type": "slide"
    }
   },
   "source": [
    "## Ontologies, Knowledge Bases, and the Semantic Web"
   ]
  },
  {
   "cell_type": "markdown",
   "metadata": {
    "slideshow": {
     "slide_type": "subslide"
    }
   },
   "source": [
    "![](https://upload.wikimedia.org/wikipedia/commons/a/a9/LOD_Cloud_2014-08.svg)"
   ]
  },
  {
   "cell_type": "markdown",
   "metadata": {
    "slideshow": {
     "slide_type": "subslide"
    }
   },
   "source": [
    "[Ontologies](https://en.wikipedia.org/wiki/Ontology_(information_science%29) define the concepts, properties, and relations associated with some domain of knowledge. In first-order logic terms, they typically define the space of possible predicates and also sometimes relationships among predicates that would, in FOL, be expressed with quantified variables (e.g. $\\forall x  Boy(x) \\implies Person(x)$) There are many ontologies for specific fields, for example in the biomedical domain you will find:\n",
    "\n",
    "- [Disease ontology](https://en.wikipedia.org/wiki/Disease_Ontology)\n",
    "- [Gene ontology](https://en.wikipedia.org/wiki/Gene_ontology)\n",
    "- [Clinical terms ontology](https://en.wikipedia.org/wiki/SNOMED_CT)\n",
    "- [Biological Pathway ontology](http://www.biopax.org/)\n",
    "- [Systems Biology ontology](https://en.wikipedia.org/wiki/Systems_Biology_Ontology)\n",
    "- [Protein ontology](https://proconsortium.org/)\n",
    "- [Medical education ontology](https://en.wikipedia.org/wiki/TIME-ITEM)\n",
    "- ..."
   ]
  },
  {
   "cell_type": "markdown",
   "metadata": {
    "slideshow": {
     "slide_type": "subslide"
    }
   },
   "source": [
    "Some ontologies just provide very general frameworks for representing information, potentially across domains. A few examples of this kind of ontology include:\n",
    "\n",
    "- [BFO](https://en.wikipedia.org/wiki/Basic_Formal_Ontology)\n",
    "- [SUMO](https://en.wikipedia.org/wiki/Suggested_Upper_Merged_Ontology)\n",
    "- [UMBEL](https://en.wikipedia.org/wiki/UMBEL)\n",
    "\n",
    "WordNet is also sometimes considered an \"upper\" ontology of this sort.\n",
    "\n",
    "Other ontologies have associated [knowledge bases](https://en.wikipedia.org/wiki/Knowledge_base) where specific facts about entities are stored. Two examples of general ontologies that are also knowledge bases is [DBpedia](https://wiki.dbpedia.org/) and [YAGO](https://en.wikipedia.org/wiki/YAGO_(database%29), both of which contain millions of facts extracted from Wikipedia."
   ]
  },
  {
   "cell_type": "markdown",
   "metadata": {
    "slideshow": {
     "slide_type": "subslide"
    }
   },
   "source": [
    "There is a growing consensus arounding building ontologies/knowledge bases that are compatible with the [Semantic Web](https://en.wikipedia.org/wiki/Semantic_Web) framework. Three key properties of these sorts of ontologies are:\n",
    "\n",
    "- Concepts grounded using Uniform Resource Identifiers (URIs)\n",
    "- Basic facts expressed using Resource Description Framework (RDF) triples\n",
    "- Relations among concepts captured using the Web Ontology Language (OWL)"
   ]
  },
  {
   "cell_type": "markdown",
   "metadata": {},
   "source": [
    "> Question: why do we need URI instead of particular IDs? - We are trying to share the information and make them on the website as much as possible."
   ]
  },
  {
   "cell_type": "markdown",
   "metadata": {
    "slideshow": {
     "slide_type": "subslide"
    }
   },
   "source": [
    "We will explore these three proprties via a Python library for RDF, rdflib. Let's first look an example of an RDF triple:"
   ]
  },
  {
   "cell_type": "raw",
   "metadata": {},
   "source": [
    "<http://dbpedia.org/resource/Abraham_Lincoln> <http://dbpedia.org/ontology/deathPlace> <http://dbpedia.org/resource/Washington,_D.C.> ."
   ]
  },
  {
   "cell_type": "markdown",
   "metadata": {},
   "source": [
    "There are three elements to an RDF triple: subject, predicate, and object. In the case above, all three are represented by a URI which is actually a web page, though it is also possible to have an object which is a *literal*, e.g. a number or string. "
   ]
  },
  {
   "cell_type": "raw",
   "metadata": {},
   "source": [
    "<http://www.w3.org/People/EM/contact#me> <http://www.w3.org/2000/10/swap/pim/contact#fullName> \"Eric Miller\" ."
   ]
  },
  {
   "cell_type": "markdown",
   "metadata": {},
   "source": [
    "Let's build our own RDF triples using rdflib. When we are adding RDF triples, we are actually creating a knowledge graph, since we can think of the triples as linking two entities with a directed, labeled edge (the predicate)."
   ]
  },
  {
   "cell_type": "code",
   "execution_count": 70,
   "metadata": {},
   "outputs": [],
   "source": [
    "#import sys\n",
    "#!{sys.executable} -m pip install rdflib\n",
    "import rdflib\n",
    "\n",
    "g = rdflib.Graph() #Create the RDF Graph"
   ]
  },
  {
   "cell_type": "markdown",
   "metadata": {},
   "source": [
    "Next, we create entities and literals."
   ]
  },
  {
   "cell_type": "code",
   "execution_count": 71,
   "metadata": {},
   "outputs": [],
   "source": [
    "from rdflib import URIRef, Literal\n",
    "\n",
    "Arthur = URIRef(\"http://example.org/people/Arthur\") #Create a URIReference for each character\n",
    "Barbara = URIRef(\"http://example.org/people/Barbara\")\n",
    "Charlie = URIRef(\"http://example.org/people/Charlie\")\n",
    "\n",
    "A_name = Literal('Arthur') #We're going to use literals for the objects\n",
    "B_name = Literal('Barbara')\n",
    "C_name = Literal('Charlie')\n",
    "\n",
    "entity_name_pairs = [(Arthur,A_name),(Barbara,B_name),(Charlie,C_name)]"
   ]
  },
  {
   "cell_type": "markdown",
   "metadata": {},
   "source": [
    "Now let's populate our knowlege graph using the *Person* type and *knows* and *name* predicates from the [FOAF](https://en.wikipedia.org/wiki/FOAF_(ontology)) ontology (used for social media connections), and the *type* predicate that is build into RDF. The RDF namespace contains the URI for these ontologies and so we don't have to specify them. We `add` the triple to the graph."
   ]
  },
  {
   "cell_type": "code",
   "execution_count": 72,
   "metadata": {},
   "outputs": [],
   "source": [
    "from rdflib.namespace import RDF, FOAF\n",
    "\n",
    "for entity, name in entity_name_pairs:\n",
    "    #my code here\n",
    "    g.add((entity,RDF.type, FOAF.Person)) #This is telling our graph that all of our entities are of type \"FOAF.Person\"\n",
    "    g.add((entity,FOAF.name,name)) #And that their FOAF.name (a special property of FOAF graphs) is the name\n",
    "    for entity2, _ in entity_name_pairs:\n",
    "        g.add((entity,FOAF.knows,entity2)) #FOAF defines a \"knows\" relationship - importantly, it's reciprocal\n",
    "    \n",
    "    #my code here"
   ]
  },
  {
   "cell_type": "markdown",
   "metadata": {
    "slideshow": {
     "slide_type": "fragment"
    }
   },
   "source": [
    "We can write the graph to a file then read it back in."
   ]
  },
  {
   "cell_type": "code",
   "execution_count": 73,
   "metadata": {},
   "outputs": [
    {
     "name": "stdout",
     "output_type": "stream",
     "text": [
      "<http://example.org/people/Arthur> <http://xmlns.com/foaf/0.1/name> \"Arthur\" .\n",
      "<http://example.org/people/Charlie> <http://xmlns.com/foaf/0.1/knows> <http://example.org/people/Barbara> .\n",
      "<http://example.org/people/Arthur> <http://xmlns.com/foaf/0.1/knows> <http://example.org/people/Barbara> .\n",
      "<http://example.org/people/Charlie> <http://www.w3.org/1999/02/22-rdf-syntax-ns#type> <http://xmlns.com/foaf/0.1/Person> .\n",
      "<http://example.org/people/Charlie> <http://xmlns.com/foaf/0.1/name> \"Charlie\" .\n",
      "<http://example.org/people/Arthur> <http://www.w3.org/1999/02/22-rdf-syntax-ns#type> <http://xmlns.com/foaf/0.1/Person> .\n",
      "<http://example.org/people/Arthur> <http://xmlns.com/foaf/0.1/knows> <http://example.org/people/Arthur> .\n",
      "<http://example.org/people/Barbara> <http://xmlns.com/foaf/0.1/name> \"Barbara\" .\n",
      "<http://example.org/people/Barbara> <http://www.w3.org/1999/02/22-rdf-syntax-ns#type> <http://xmlns.com/foaf/0.1/Person> .\n",
      "<http://example.org/people/Barbara> <http://xmlns.com/foaf/0.1/knows> <http://example.org/people/Arthur> .\n",
      "<http://example.org/people/Arthur> <http://xmlns.com/foaf/0.1/knows> <http://example.org/people/Charlie> .\n",
      "<http://example.org/people/Charlie> <http://xmlns.com/foaf/0.1/knows> <http://example.org/people/Charlie> .\n",
      "<http://example.org/people/Charlie> <http://xmlns.com/foaf/0.1/knows> <http://example.org/people/Arthur> .\n",
      "<http://example.org/people/Barbara> <http://xmlns.com/foaf/0.1/knows> <http://example.org/people/Barbara> .\n",
      "<http://example.org/people/Barbara> <http://xmlns.com/foaf/0.1/knows> <http://example.org/people/Charlie> .\n",
      "\n",
      "\n"
     ]
    },
    {
     "name": "stderr",
     "output_type": "stream",
     "text": [
      "c:\\users\\nicol\\appdata\\local\\programs\\python\\python37\\lib\\site-packages\\rdflib\\plugins\\serializers\\nt.py:37: UserWarning: NTSerializer always uses UTF-8 encoding. Given encoding was: None\n",
      "  \"NTSerializer always uses UTF-8 encoding. \"\n"
     ]
    }
   ],
   "source": [
    "S = g.serialize(\"test.txt\",format=\"nt\")\n",
    "f = open(\"test.txt\")\n",
    "print(f.read())\n",
    "f.close()"
   ]
  },
  {
   "cell_type": "code",
   "execution_count": 74,
   "metadata": {},
   "outputs": [
    {
     "name": "stdout",
     "output_type": "stream",
     "text": [
      "15\n"
     ]
    }
   ],
   "source": [
    "g2 = rdflib.Graph()\n",
    "g2.parse(\"test.txt\",format=\"nt\")\n",
    "print(len(g2))"
   ]
  },
  {
   "cell_type": "markdown",
   "metadata": {
    "slideshow": {
     "slide_type": "fragment"
    }
   },
   "source": [
    "As alluded to earlier, we can make statements about predicates themselves, to allow for FOL inference. Some of these are part of RDF Schema (RDFS), and others are included only in OWL (a more expansive framework). There are too many for us to discuss in detail, but here are some examples:\n",
    "\n",
    "- RDFS.subClassOf (assert one class is a subclass of another)\n",
    "- RDFS.domain/range (assert that a subject/object of a particular predicate must be of a particular class - domain specifies the subject, while range specifies the object)\n",
    "- OWL.disjointWith (assert that two classes have no common members)\n",
    "- OWL.equivalentClasses (assert that two classes have the same members)\n",
    "- RDFS.subPropertyOf (assert that if relationship A holds between objects, B will too) \n",
    "- OWL.SymmetricProperty (assert that a relationship is symmetric. ie, if A knows B, then B knows A, as well.)\n",
    "- OWL.TransitiveProperty (assert that a relationship is transitive. ie, if A is a friend of B, and B is a friend of C, then A is a friend of C)\n",
    "- OWL.inverseOf (assert that two relationships are inverses of one another, e.g. parentOf/childOf)"
   ]
  },
  {
   "cell_type": "markdown",
   "metadata": {},
   "source": [
    "Let's test out a couple of these \"meta\" predicates, and show that they can be used to add new facts to our knowledge base. We'll create a class \"Boy\" which is a subclass of Person, and assert that FOAF \"knows\" is symmetric (not exactly true, but...)."
   ]
  },
  {
   "cell_type": "code",
   "execution_count": 76,
   "metadata": {},
   "outputs": [
    {
     "name": "stdout",
     "output_type": "stream",
     "text": [
      "http://example.org/people/Arthur http://www.w3.org/2002/07/owl#sameAs http://example.org/people/Arthur\n",
      "http://example.org/people/Arthur http://www.w3.org/1999/02/22-rdf-syntax-ns#type http://example.org/people/boy\n",
      "http://example.org/people/Arthur http://www.w3.org/1999/02/22-rdf-syntax-ns#type http://www.w3.org/2000/01/rdf-schema#Resource\n",
      "http://example.org/people/Arthur http://xmlns.com/foaf/0.1/knows http://example.org/people/Barbara\n",
      "http://example.org/people/Arthur http://www.w3.org/1999/02/22-rdf-syntax-ns#type http://xmlns.com/foaf/0.1/Person\n",
      "http://example.org/people/Arthur http://www.w3.org/1999/02/22-rdf-syntax-ns#type http://www.w3.org/2002/07/owl#Thing\n"
     ]
    }
   ],
   "source": [
    "from rdflib.namespace import RDFS,OWL\n",
    "#!{sys.executable} -m pip install owlrl\n",
    "import owlrl #pip install owlrl\n",
    "\n",
    "g3 = rdflib.Graph()\n",
    "Boy = URIRef(\"http://example.org/people/boy\")\n",
    "g3.add((Arthur,RDF.type, Boy))\n",
    "g3.add((Barbara,FOAF.knows,Arthur))\n",
    "\n",
    "#my code here\n",
    "g3.add((Boy, RDFS.subClassOf,FOAF.Person)) #Boy is a subclass of Person: all boys are people\n",
    "g3.add((FOAF.knows, RDF.type, OWL.SymmetricProperty)) #Knows is symmetric - if A knows B, B knows A\n",
    "#my code here\n",
    "\n",
    "owlrl.DeductiveClosure(owlrl.CombinedClosure.RDFS_OWLRL_Semantics).expand(g3) #Find all links that need to be connected\n",
    "\n",
    "for subj,pred,obj in g3:\n",
    "    if \"Arthur\" in str(subj):\n",
    "        print(subj,pred,obj)\n"
   ]
  },
  {
   "cell_type": "markdown",
   "metadata": {
    "slideshow": {
     "slide_type": "fragment"
    }
   },
   "source": [
    "Example: Let's create parentOf and childOf relationships, use RDF/OWL to assert that they are inverses and that Barbara is the parent of Arthur, then derive that Arthur is childOf Barbara"
   ]
  },
  {
   "cell_type": "code",
   "execution_count": 77,
   "metadata": {},
   "outputs": [
    {
     "name": "stdout",
     "output_type": "stream",
     "text": [
      "http://example.org/people/Arthur http://www.w3.org/2002/07/owl#sameAs http://example.org/people/Arthur\n",
      "http://example.org/people/Arthur http://example.org/childOf http://example.org/people/Barbara\n",
      "http://example.org/people/Arthur http://www.w3.org/1999/02/22-rdf-syntax-ns#type http://www.w3.org/2000/01/rdf-schema#Resource\n",
      "http://example.org/people/Arthur http://www.w3.org/1999/02/22-rdf-syntax-ns#type http://www.w3.org/2002/07/owl#Thing\n"
     ]
    }
   ],
   "source": [
    "g4 = rdflib.Graph()\n",
    "\n",
    "#your code here\n",
    "parentOf = URIRef(\"http://example.org/parentOf\")\n",
    "childOf = URIRef(\"http://example.org/childOf\")\n",
    "g4.add((Barbara,parentOf,Arthur))\n",
    "g4.add((parentOf,OWL.inverseOf,childOf)) #childOf and parentOf are inverses: if A is a child of B, then B is the parent of A\n",
    "#your code here\n",
    "\n",
    "owlrl.DeductiveClosure(owlrl.CombinedClosure.RDFS_OWLRL_Semantics).expand(g4)\n",
    "\n",
    "for subj,pred,obj in g4:\n",
    "    if \"Arthur\" in str(subj):\n",
    "        print(subj,pred,obj)"
   ]
  },
  {
   "cell_type": "markdown",
   "metadata": {
    "slideshow": {
     "slide_type": "fragment"
    }
   },
   "source": [
    "The system provided by RDF+OWL is refered to generally as a *description logic*. It is less powerful than FOL, but is far more practical to do inference with."
   ]
  },
  {
   "cell_type": "markdown",
   "metadata": {
    "slideshow": {
     "slide_type": "subslide"
    }
   },
   "source": [
    "## Advanced topics: Lambda calculus, representing events"
   ]
  },
  {
   "cell_type": "markdown",
   "metadata": {
    "slideshow": {
     "slide_type": "fragment"
    }
   },
   "source": [
    "Though it seems clear that much language can be expressed as logical formulas, it is perhaps less clear how these formulas can be built up compositionally from the individual words in a sentence. It is useful, in particular, to have a way of expressing predicates independent of particular instantiations and/or quantifications of those predicates. Lambda ($\\lambda$) notation provides us with a means to do this. For example, we could express the word *tall* as  \n",
    "\n",
    "$\\lambda.x$ tall($x$)\n",
    "\n",
    "The $\\lambda$ here expresses the fact that this expression is to some extent incomplete, and is waiting to be bound to a particular entity. This is done by a process known as $\\lambda$-reduction, and involves nothing more than replacing the $\\lambda$ variable (here, $x$ when the expression is applied, to, say, an entity)\n",
    "\n",
    "$\\lambda.x$ tall($x$)(John)\n",
    "\n",
    "resulting in\n",
    "\n",
    "tall(John)"
   ]
  },
  {
   "cell_type": "markdown",
   "metadata": {
    "slideshow": {
     "slide_type": "fragment"
    }
   },
   "source": [
    "In NLTK, lambda is expressed using `\\` "
   ]
  },
  {
   "cell_type": "code",
   "execution_count": 78,
   "metadata": {},
   "outputs": [
    {
     "data": {
      "text/plain": [
       "<ApplicationExpression tall(john)>"
      ]
     },
     "execution_count": 78,
     "metadata": {},
     "output_type": "execute_result"
    }
   ],
   "source": [
    "read_expr(r'\\x.tall(x)(john)').simplify()"
   ]
  },
  {
   "cell_type": "markdown",
   "metadata": {
    "slideshow": {
     "slide_type": "fragment"
    }
   },
   "source": [
    "Multiple lambdas are possible for predicates with multiple arguments, with the lambdas being resolved in order as they are applied."
   ]
  },
  {
   "cell_type": "code",
   "execution_count": 79,
   "metadata": {},
   "outputs": [
    {
     "data": {
      "text/plain": [
       "<ApplicationExpression like(john,mary)>"
      ]
     },
     "execution_count": 79,
     "metadata": {},
     "output_type": "execute_result"
    }
   ],
   "source": [
    "read_expr(r'\\x.\\y.like(x,y)(john)(mary)').simplify()"
   ]
  },
  {
   "cell_type": "code",
   "execution_count": 80,
   "metadata": {},
   "outputs": [
    {
     "data": {
      "text/plain": [
       "<LambdaExpression \\y.like(john,y)>"
      ]
     },
     "execution_count": 80,
     "metadata": {},
     "output_type": "execute_result"
    }
   ],
   "source": [
    "read_expr(r'\\x.\\y.like(x,y)(john)').simplify()"
   ]
  },
  {
   "cell_type": "markdown",
   "metadata": {},
   "source": [
    "Here the lambda calculus is like creating our own predicate, but more important, is that we can hold our "
   ]
  },
  {
   "cell_type": "markdown",
   "metadata": {
    "slideshow": {
     "slide_type": "fragment"
    }
   },
   "source": [
    "Lambda calculus is essential for representing the **partial semantics** of phrases like \"likes Mary\" which form constituents in a parse tree."
   ]
  },
  {
   "cell_type": "markdown",
   "metadata": {
    "slideshow": {
     "slide_type": "fragment"
    }
   },
   "source": [
    "Basic FOL seems fine for expressing immutable facts that do not vary, but what things involving time? The trick is to introduce events as \"objects\" in the model, that can then be assigned properties. For instance, consider the sentence:\n",
    "\n",
    "*After I devoured the sandwich, I saw the elephant*\n"
   ]
  },
  {
   "cell_type": "markdown",
   "metadata": {
    "slideshow": {
     "slide_type": "fragment"
    }
   },
   "source": [
    "We can express the seeing event as follows:\n",
    "\n",
    "$\\exists e_1$ Seeing($e_1$) & Seer($e_1$,Speaker) & Seen($e_1$,Elephant)"
   ]
  },
  {
   "cell_type": "markdown",
   "metadata": {
    "slideshow": {
     "slide_type": "fragment"
    }
   },
   "source": [
    "And the eating event:\n",
    "\n",
    "$\\exists e_2$ Eating($e_2$) & Eater($e_2$,Speaker) & Eaten($e_2$,Sandwich) & Manner($e_2$, fast)"
   ]
  },
  {
   "cell_type": "markdown",
   "metadata": {
    "slideshow": {
     "slide_type": "fragment"
    }
   },
   "source": [
    "And further assert:\n",
    "\n",
    "After($e_2,e_1$)"
   ]
  },
  {
   "cell_type": "markdown",
   "metadata": {
    "slideshow": {
     "slide_type": "fragment"
    }
   },
   "source": [
    "This kind of representation of events has the advantage that it does not require us to specify all the potential arguments of a multi-argument predicate `eat`, but instead we can add (sometimes optionally) additional pieces of information about the event in the form of two place predications where the event entity is the first argument."
   ]
  }
 ],
 "metadata": {
  "celltoolbar": "Slideshow",
  "kernelspec": {
   "display_name": "Python 3",
   "language": "python",
   "name": "python3"
  },
  "language_info": {
   "codemirror_mode": {
    "name": "ipython",
    "version": 3
   },
   "file_extension": ".py",
   "mimetype": "text/x-python",
   "name": "python",
   "nbconvert_exporter": "python",
   "pygments_lexer": "ipython3",
   "version": "3.7.7"
  }
 },
 "nbformat": 4,
 "nbformat_minor": 2
}
